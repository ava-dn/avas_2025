{
 "cells": [
  {
   "cell_type": "markdown",
   "metadata": {},
   "source": [
    "**Sprint 5 Blog**\n",
    "\n",
    "My group's program has a quiz the user can take that matches them to a national park \n",
    "\n",
    "and is personal to the user. The user can then go and find more information \n",
    "\n",
    "about their national park. By answering a series of questions, users \n",
    "\n",
    "are taken on a journey that helps them identify which park aligns with \n",
    "\n",
    "their tastes, adventure level, and outdoor preferences. The quiz takes into\n",
    "\n",
    "account factors like preferred activities (e.g., hiking, wildlife watching, \n",
    "\n",
    "or scenic drives), & weather preferences.and terrain. The user can also review \n",
    "\n",
    "the national park as well as give it a star rating. The user can also use the \n",
    "\n",
    "interactive Google Maps api system on each page.\n",
    "\n",
    "\n",
    "\n",
    "My purpose in Sprint 5 has been designing and developing all 4 of the national park pages, \n",
    "\n",
    "integrating both interactive elements and visual enhancements to create an engaging user \n",
    "\n",
    "experience. These pages serve as a comprehensive resource, offering an array of features \n",
    "\n",
    "that bring the beauty and information of these parks to life. I also integrated a google \n",
    "\n",
    "maps API system on each individual page that allows the user to pin points, that fetches \n",
    "\n",
    "lat/lg points, and the user can delete pin as well."
   ]
  },
  {
   "cell_type": "code",
   "execution_count": 10,
   "metadata": {},
   "outputs": [
    {
     "ename": "SyntaxError",
     "evalue": "invalid syntax (2531856537.py, line 1)",
     "output_type": "error",
     "traceback": [
      "\u001b[0;36m  Cell \u001b[0;32mIn[10], line 1\u001b[0;36m\u001b[0m\n\u001b[0;31m    ---\u001b[0m\n\u001b[0m       ^\u001b[0m\n\u001b[0;31mSyntaxError\u001b[0m\u001b[0;31m:\u001b[0m invalid syntax\n"
     ]
    }
   ],
   "source": [
    "CRUD: \n",
    "def create(self):\n",
    "    db.session.add(self)\n",
    "    db.session.commit()\n",
    "\n",
    "def read(self):\n",
    "        return {\n",
    "            \"id\": self.id,\n",
    "            \"name\": self._name,\n",
    "            \"channel_id\": self._channel_id,\n",
    "            \"attributes\": self._attributes,\n",
    "            \"lat\": self.lat,\n",
    "            \"lng\": self.lng,\n",
    "            \"timestamp\": self.timestamp.isoformat(),\n",
    "        }\n",
    "\n",
    "def update(self, inputs):\n",
    "        if 'name' in inputs:\n",
    "            self._name = inputs['name']\n",
    "        if 'channel_id' in inputs:\n",
    "            self._channel_id = inputs['channel_id']\n",
    "        if 'attributes' in inputs:\n",
    "            self._attributes = inputs['attributes']\n",
    "        if 'lat' in inputs:\n",
    "            self.lat = inputs['lat']\n",
    "        if 'lng' in inputs:\n",
    "            self.lng = inputs['lng']\n",
    "\n",
    "        db.session.commit()\n",
    "\n",
    "def delete(self):\n",
    "        db.session.delete(self)\n",
    "        db.session.commit()"
   ]
  },
  {
   "cell_type": "code",
   "execution_count": null,
   "metadata": {},
   "outputs": [],
   "source": [
    "def initLocations():\n",
    "    sample_locations = [\n",
    "        {\"name\": \"Grand Canyon\", \"channel_id\": 1, \"attributes\": {\"lat\": 36.1069, \"long\": -112.1129, \"type\": \"national park\"}, \"lat\": 36.1069, \"lng\": -112.1129},\n",
    "    ]"
   ]
  },
  {
   "cell_type": "code",
   "execution_count": null,
   "metadata": {},
   "outputs": [],
   "source": [
    "for data in sample_locations:\n",
    "        location = location(\n",
    "            name=data[\"name\"],\n",
    "            channel_id=data[\"channel_id\"],\n",
    "            attributes=data[\"attributes\"],\n",
    "            lat=data[\"lat\"],\n",
    "            lng=data[\"lng\"]\n",
    "        )"
   ]
  }
 ],
 "metadata": {
  "kernelspec": {
   "display_name": "venv",
   "language": "python",
   "name": "python3"
  },
  "language_info": {
   "codemirror_mode": {
    "name": "ipython",
    "version": 3
   },
   "file_extension": ".py",
   "mimetype": "text/x-python",
   "name": "python",
   "nbconvert_exporter": "python",
   "pygments_lexer": "ipython3",
   "version": "3.12.3"
  }
 },
 "nbformat": 4,
 "nbformat_minor": 2
}
