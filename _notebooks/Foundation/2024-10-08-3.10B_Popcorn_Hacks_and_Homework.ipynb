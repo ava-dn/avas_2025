{
 "cells": [
  {
   "cell_type": "markdown",
   "metadata": {},
   "source": [
    "**3.10.1 Popcorn Hack**"
   ]
  },
  {
   "cell_type": "code",
   "execution_count": 1,
   "metadata": {},
   "outputs": [
    {
     "name": "stdout",
     "output_type": "stream",
     "text": [
      "[5, 4, 3, 2, 1]\n"
     ]
    }
   ],
   "source": [
    "my_array = [1, 2, 3, 4, 5]\n",
    "\n",
    "my_array.reverse()\n",
    "\n",
    "print(my_array)"
   ]
  },
  {
   "cell_type": "markdown",
   "metadata": {},
   "source": [
    "**3.10.1 Popcorn Hack**"
   ]
  },
  {
   "cell_type": "code",
   "execution_count": 3,
   "metadata": {
    "vscode": {
     "languageId": "javascript"
    }
   },
   "outputs": [
    {
     "data": {
      "application/javascript": "\nlet myArray = [3, 4, 5];\n\nmyArray = [1, 2, ...myArray];\n\nconsole.log(myArray);\n",
      "text/plain": [
       "<IPython.core.display.Javascript object>"
      ]
     },
     "metadata": {},
     "output_type": "display_data"
    }
   ],
   "source": [
    "%%js\n",
    "\n",
    "let myArray = [3, 4, 5];\n",
    "\n",
    "myArray = [1, 2, ...myArray];\n",
    "\n",
    "console.log(myArray);"
   ]
  },
  {
   "cell_type": "markdown",
   "metadata": {},
   "source": [
    "**3.10.1 Popcorn Hack**"
   ]
  },
  {
   "cell_type": "code",
   "execution_count": 4,
   "metadata": {
    "vscode": {
     "languageId": "javascript"
    }
   },
   "outputs": [
    {
     "data": {
      "application/javascript": "\nlet numbers = [1, 2, 3, 4, 5];\n\nlet evenNumbers = numbers.filter(num => num % 2 === 0);\n\nconsole.log(evenNumbers);\n",
      "text/plain": [
       "<IPython.core.display.Javascript object>"
      ]
     },
     "metadata": {},
     "output_type": "display_data"
    }
   ],
   "source": [
    "%%js\n",
    "\n",
    "let numbers = [1, 2, 3, 4, 5];\n",
    "\n",
    "let evenNumbers = numbers.filter(num => num % 2 === 0);\n",
    "\n",
    "console.log(evenNumbers);"
   ]
  },
  {
   "cell_type": "markdown",
   "metadata": {},
   "source": [
    "**3.10.2 Popcorn Hack**"
   ]
  },
  {
   "cell_type": "code",
   "execution_count": 5,
   "metadata": {},
   "outputs": [
    {
     "name": "stdout",
     "output_type": "stream",
     "text": [
      "[1, 2, 'b', 'a', 3]\n"
     ]
    }
   ],
   "source": [
    "avas_list = [1, 2, 3]\n",
    "\n",
    "avas_list.insert(-1, 'a')  \n",
    "avas_list.insert(-2, 'b') \n",
    "\n",
    "print(avas_list)"
   ]
  },
  {
   "cell_type": "markdown",
   "metadata": {},
   "source": [
    "**3.10.2 Popcorn Hack**"
   ]
  },
  {
   "cell_type": "code",
   "execution_count": 6,
   "metadata": {},
   "outputs": [
    {
     "name": "stdout",
     "output_type": "stream",
     "text": [
      "[1, 2, 3, 4, 5, 6]\n"
     ]
    }
   ],
   "source": [
    "list1 = [1, 2, 3]\n",
    "list2 = [4, 5, 6]\n",
    "\n",
    "list1.extend(list2)\n",
    "\n",
    "print(list1)"
   ]
  },
  {
   "cell_type": "markdown",
   "metadata": {},
   "source": [
    "**3.10.2 Popcorn Hack**"
   ]
  },
  {
   "cell_type": "code",
   "execution_count": 8,
   "metadata": {},
   "outputs": [
    {
     "name": "stdout",
     "output_type": "stream",
     "text": [
      "[4, 5]\n"
     ]
    }
   ],
   "source": [
    "avas_list = [1, 2, 3, 4, 5]\n",
    "\n",
    "avas_list.remove(2)\n",
    "avas_list.pop(1)\n",
    "del avas_list[0]\n",
    "\n",
    "print(avas_list) "
   ]
  },
  {
   "cell_type": "markdown",
   "metadata": {},
   "source": [
    "**3.10.3 Main Hack**"
   ]
  },
  {
   "cell_type": "code",
   "execution_count": 9,
   "metadata": {},
   "outputs": [
    {
     "name": "stdout",
     "output_type": "stream",
     "text": [
      "Added: Apples\n",
      "Added: Bananas\n",
      "Grocery List:\n",
      "- Apples\n",
      "- Bananas\n",
      "Removed: Apples\n",
      "Grocery List:\n",
      "- Bananas\n"
     ]
    }
   ],
   "source": [
    "grocery_list = []\n",
    "\n",
    "def add_item(item):\n",
    "    grocery_list.append(item)\n",
    "    print(f\"Added: {item}\")\n",
    "\n",
    "def remove_item(item):\n",
    "    if item in grocery_list:\n",
    "        grocery_list.remove(item)\n",
    "        print(f\"Removed: {item}\")\n",
    "    else:\n",
    "        print(f\"{item} not found in the list.\")\n",
    "\n",
    "def show_list():\n",
    "    print(\"Grocery List:\")\n",
    "    for item in grocery_list:\n",
    "        print(f\"- {item}\")\n",
    "\n",
    "add_item(\"Apples\")\n",
    "add_item(\"Bananas\")\n",
    "show_list()\n",
    "remove_item(\"Apples\")\n",
    "show_list()"
   ]
  },
  {
   "cell_type": "markdown",
   "metadata": {},
   "source": [
    "**3.10.3 Main Hack**"
   ]
  },
  {
   "cell_type": "code",
   "execution_count": 10,
   "metadata": {},
   "outputs": [
    {
     "name": "stdout",
     "output_type": "stream",
     "text": [
      "[2, 4, 6]\n"
     ]
    }
   ],
   "source": [
    "numbers = [1, 2, 3, 4, 5, 6]\n",
    "\n",
    "even_numbers = [num for num in numbers if num % 2 == 0]\n",
    "\n",
    "print(even_numbers)"
   ]
  },
  {
   "cell_type": "markdown",
   "metadata": {},
   "source": [
    "**3.10.3 Main Hack**"
   ]
  },
  {
   "cell_type": "code",
   "execution_count": 11,
   "metadata": {},
   "outputs": [
    {
     "name": "stdout",
     "output_type": "stream",
     "text": [
      "Added grade: 85\n",
      "Added grade: 90\n",
      "Added grade: 78\n",
      "Student Grades:\n",
      "- 85\n",
      "- 90\n",
      "- 78\n",
      "Removed grade: 90\n",
      "Student Grades:\n",
      "- 85\n",
      "- 78\n"
     ]
    }
   ],
   "source": [
    "grades = []\n",
    "\n",
    "def add_grade(grade):\n",
    "    grades.append(grade)\n",
    "    print(f\"Added grade: {grade}\")\n",
    "\n",
    "def remove_grade(grade):\n",
    "    if grade in grades:\n",
    "        grades.remove(grade)\n",
    "        print(f\"Removed grade: {grade}\")\n",
    "    else:\n",
    "        print(f\"Grade {grade} not found in the list.\")\n",
    "\n",
    "def show_grades():\n",
    "    print(\"Student Grades:\")\n",
    "    for grade in grades:\n",
    "        print(f\"- {grade}\")\n",
    "\n",
    "add_grade(85)\n",
    "add_grade(90)\n",
    "add_grade(78)\n",
    "show_grades()\n",
    "remove_grade(90)\n",
    "show_grades()"
   ]
  },
  {
   "cell_type": "markdown",
   "metadata": {},
   "source": [
    "**3.10.3 Main Hack**"
   ]
  },
  {
   "cell_type": "code",
   "execution_count": 12,
   "metadata": {},
   "outputs": [
    {
     "name": "stdout",
     "output_type": "stream",
     "text": [
      "Numbers: [10, 30, 40, 50, 60]\n",
      "Total: 190\n",
      "Maximum: 60\n"
     ]
    }
   ],
   "source": [
    "numbers = [10, 20, 30, 40, 50]\n",
    "\n",
    "numbers.append(60)\n",
    "numbers.remove(20)\n",
    "\n",
    "print(\"Numbers:\", numbers)\n",
    "\n",
    "total = sum(numbers)\n",
    "print(\"Total:\", total)\n",
    "\n",
    "maximum = max(numbers)\n",
    "print(\"Maximum:\", maximum)"
   ]
  },
  {
   "cell_type": "markdown",
   "metadata": {},
   "source": [
    "**3.10.4 Main Hack**"
   ]
  },
  {
   "cell_type": "code",
   "execution_count": 13,
   "metadata": {
    "vscode": {
     "languageId": "javascript"
    }
   },
   "outputs": [
    {
     "data": {
      "application/javascript": "\nlet myArray = [1, 2, 3, 4, 5];\n\nconsole.log(myArray);\n",
      "text/plain": [
       "<IPython.core.display.Javascript object>"
      ]
     },
     "metadata": {},
     "output_type": "display_data"
    }
   ],
   "source": [
    "%%js\n",
    "\n",
    "let myArray = [1, 2, 3, 4, 5];\n",
    "\n",
    "console.log(myArray);"
   ]
  },
  {
   "cell_type": "markdown",
   "metadata": {},
   "source": [
    "**3.10.4 Main Hack**"
   ]
  },
  {
   "cell_type": "code",
   "execution_count": 14,
   "metadata": {
    "vscode": {
     "languageId": "javascript"
    }
   },
   "outputs": [
    {
     "data": {
      "application/javascript": "\nlet myArray = [1, 2, 3, 4, 5];\n\nmyArray.forEach(value => {\n    console.log(value);\n});\n",
      "text/plain": [
       "<IPython.core.display.Javascript object>"
      ]
     },
     "metadata": {},
     "output_type": "display_data"
    }
   ],
   "source": [
    "%%js\n",
    "\n",
    "let myArray = [1, 2, 3, 4, 5];\n",
    "\n",
    "myArray.forEach(value => {\n",
    "    console.log(value);\n",
    "});"
   ]
  },
  {
   "cell_type": "markdown",
   "metadata": {},
   "source": [
    "**3.10.4 Main Hack**"
   ]
  },
  {
   "cell_type": "code",
   "execution_count": 16,
   "metadata": {
    "vscode": {
     "languageId": "javascript"
    }
   },
   "outputs": [
    {
     "data": {
      "application/javascript": "\nlet myArray = [1, 2, 3];\n\nmyArray.push(4);\nconsole.log(\"After adding:\", myArray);\n\nmyArray.pop();\nconsole.log(\"After removing:\", myArray);\n",
      "text/plain": [
       "<IPython.core.display.Javascript object>"
      ]
     },
     "metadata": {},
     "output_type": "display_data"
    }
   ],
   "source": [
    "%%js\n",
    "\n",
    "let myArray = [1, 2, 3];\n",
    "\n",
    "myArray.push(4);\n",
    "console.log(\"After adding:\", myArray);\n",
    "\n",
    "myArray.pop();\n",
    "console.log(\"After removing:\", myArray);"
   ]
  },
  {
   "cell_type": "markdown",
   "metadata": {},
   "source": [
    "**3.10.4 Main Hack**"
   ]
  },
  {
   "cell_type": "code",
   "execution_count": 17,
   "metadata": {
    "vscode": {
     "languageId": "javascript"
    }
   },
   "outputs": [
    {
     "data": {
      "application/javascript": "\nlet numbers = [1, 2, 3, 4, 5, 6];\nlet count = 0;\n\nnumbers.forEach(num => {\n    if (num % 2 === 0) {\n        count++;\n    }\n});\n\nconsole.log(\"Even numbers count:\", count);\n",
      "text/plain": [
       "<IPython.core.display.Javascript object>"
      ]
     },
     "metadata": {},
     "output_type": "display_data"
    }
   ],
   "source": [
    "%%js\n",
    "\n",
    "let numbers = [1, 2, 3, 4, 5, 6];\n",
    "let count = 0;\n",
    "\n",
    "numbers.forEach(num => {\n",
    "    if (num % 2 === 0) {\n",
    "        count++;\n",
    "    }\n",
    "});\n",
    "\n",
    "console.log(\"Even numbers count:\", count);"
   ]
  }
 ],
 "metadata": {
  "kernelspec": {
   "display_name": "venv",
   "language": "python",
   "name": "python3"
  },
  "language_info": {
   "codemirror_mode": {
    "name": "ipython",
    "version": 3
   },
   "file_extension": ".py",
   "mimetype": "text/x-python",
   "name": "python",
   "nbconvert_exporter": "python",
   "pygments_lexer": "ipython3",
   "version": "3.12.3"
  }
 },
 "nbformat": 4,
 "nbformat_minor": 2
}
