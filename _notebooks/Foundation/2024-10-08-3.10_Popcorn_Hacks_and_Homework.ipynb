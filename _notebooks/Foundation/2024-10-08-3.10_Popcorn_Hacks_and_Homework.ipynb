{
 "cells": [
  {
   "cell_type": "markdown",
   "metadata": {},
   "source": [
    "**3.10.1 Popcorn Hack**"
   ]
  },
  {
   "cell_type": "code",
   "execution_count": 1,
   "metadata": {},
   "outputs": [
    {
     "name": "stdout",
     "output_type": "stream",
     "text": [
      "computer\n"
     ]
    }
   ],
   "source": [
    "a_list = []\n",
    "\n",
    "while True:\n",
    "    user_input = input(\"Enter an item (or 'done' to finish): \")\n",
    "    if user_input.lower() == 'done':\n",
    "        break\n",
    "    a_list.append(user_input)\n",
    "\n",
    "for item in a_list:\n",
    "    print(item)"
   ]
  },
  {
   "cell_type": "markdown",
   "metadata": {},
   "source": [
    "**3.10.2 Popcorn Hack**"
   ]
  },
  {
   "cell_type": "code",
   "execution_count": 2,
   "metadata": {},
   "outputs": [
    {
     "name": "stdout",
     "output_type": "stream",
     "text": [
      "The second element is: computer\n",
      "Updated list after deleting the second element: ['computer']\n"
     ]
    }
   ],
   "source": [
    "aList = []\n",
    "\n",
    "while True:\n",
    "    user_input = input(\"Enter an item (or 'done' to finish): \")\n",
    "    if user_input.lower() == 'done':\n",
    "        break\n",
    "    aList.append(user_input)\n",
    "\n",
    "if len(aList) > 1:\n",
    "    print(\"The second element is:\", aList[1])\n",
    "else:\n",
    "    print(\"There is no second element.\")\n",
    "\n",
    "if len(aList) > 1:\n",
    "    del aList[1]\n",
    "    print(\"Updated list after deleting the second element:\", aList)\n",
    "else:\n",
    "    print(\"No second element to delete. The list remains:\", aList)"
   ]
  },
  {
   "cell_type": "markdown",
   "metadata": {},
   "source": [
    "**3.10.3 Popcorn Hack**"
   ]
  },
  {
   "cell_type": "code",
   "execution_count": 3,
   "metadata": {},
   "outputs": [
    {
     "name": "stdout",
     "output_type": "stream",
     "text": [
      "Favorite fruits: ['watermelon', 'avocado', 'strawberries', 'kiwi', 'pineapple', 'mango', 'apples']\n",
      "Total number of items in the list: 7\n"
     ]
    }
   ],
   "source": [
    "favorite_fruits = [\"watermelon\", \"avocado\", \"strawberries\", \"kiwi\", \"pineapple\"]\n",
    "\n",
    "favorite_fruits.append(\"mango\")\n",
    "favorite_fruits.append(\"apples\")\n",
    "\n",
    "print(\"Favorite fruits:\", favorite_fruits)\n",
    "\n",
    "total_items = len(favorite_fruits)\n",
    "print(\"Total number of items in the list:\", total_items)"
   ]
  },
  {
   "cell_type": "markdown",
   "metadata": {},
   "source": [
    "**3.10.4 Popcorn Hack**"
   ]
  },
  {
   "cell_type": "code",
   "execution_count": 5,
   "metadata": {},
   "outputs": [
    {
     "name": "stdout",
     "output_type": "stream",
     "text": [
      "The sum of all even numbers is: 30\n"
     ]
    }
   ],
   "source": [
    "nums = [1, 2, 3, 4, 5, 6, 7, 8, 9, 10]\n",
    "\n",
    "sum_of_evens = 0\n",
    "\n",
    "for num in nums:\n",
    "    if num % 2 == 0: \n",
    "        sum_of_evens += num\n",
    "\n",
    "print(\"The sum of all even numbers is:\", sum_of_evens)"
   ]
  },
  {
   "cell_type": "markdown",
   "metadata": {},
   "source": [
    "**Popcorn Hack 3.10.4**"
   ]
  },
  {
   "cell_type": "code",
   "execution_count": 4,
   "metadata": {
    "vscode": {
     "languageId": "javascript"
    }
   },
   "outputs": [
    {
     "data": {
      "application/javascript": "\nlet fruits = [\"apple\", \"banana\", \"orange\"];\n\nif (fruits.includes(\"banana\")) {\n    console.log(\"Banana is in the list.\");\n} else {\n    console.log(\"Banana is not in the list.\");\n}\n",
      "text/plain": [
       "<IPython.core.display.Javascript object>"
      ]
     },
     "metadata": {},
     "output_type": "display_data"
    }
   ],
   "source": [
    "%%js\n",
    "\n",
    "let fruits = [\"apple\", \"banana\", \"orange\"];\n",
    "\n",
    "if (fruits.includes(\"banana\")) {\n",
    "    console.log(\"Banana is in the list.\");\n",
    "} else {\n",
    "    console.log(\"Banana is not in the list.\");\n",
    "}"
   ]
  },
  {
   "cell_type": "markdown",
   "metadata": {},
   "source": [
    "**3.10 Hw Hack #1**"
   ]
  },
  {
   "cell_type": "code",
   "execution_count": 6,
   "metadata": {},
   "outputs": [
    {
     "name": "stdout",
     "output_type": "stream",
     "text": [
      "The second element is: 20\n"
     ]
    }
   ],
   "source": [
    "numbers = [10, 20, 30, 40, 50]\n",
    "\n",
    "print(\"The second element is:\", numbers[1])"
   ]
  },
  {
   "cell_type": "markdown",
   "metadata": {},
   "source": [
    "**3.10 Hw Hack #2**"
   ]
  },
  {
   "cell_type": "code",
   "execution_count": 7,
   "metadata": {
    "vscode": {
     "languageId": "javascript"
    }
   },
   "outputs": [
    {
     "data": {
      "application/javascript": "\nlet numbers = [10, 20, 30, 40, 50];\n\nconsole.log(\"The second element is:\", numbers[1]);\n",
      "text/plain": [
       "<IPython.core.display.Javascript object>"
      ]
     },
     "metadata": {},
     "output_type": "display_data"
    }
   ],
   "source": [
    "%%js\n",
    "\n",
    "let numbers = [10, 20, 30, 40, 50];\n",
    "\n",
    "console.log(\"The second element is:\", numbers[1]);"
   ]
  },
  {
   "cell_type": "markdown",
   "metadata": {},
   "source": [
    "**3.10 Hw Hack #3**"
   ]
  },
  {
   "cell_type": "code",
   "execution_count": 14,
   "metadata": {},
   "outputs": [
    {
     "name": "stdout",
     "output_type": "stream",
     "text": [
      "\n",
      "To-Do List Menu:\n",
      "1. Add an item\n",
      "2. Remove an item\n",
      "3. View the list\n",
      "4. Exit\n",
      "'hw' has been added to the list.\n",
      "\n",
      "To-Do List Menu:\n",
      "1. Add an item\n",
      "2. Remove an item\n",
      "3. View the list\n",
      "4. Exit\n",
      "'clean' has been added to the list.\n",
      "\n",
      "To-Do List Menu:\n",
      "1. Add an item\n",
      "2. Remove an item\n",
      "3. View the list\n",
      "4. Exit\n",
      "'clean' has been removed from the list.\n",
      "\n",
      "To-Do List Menu:\n",
      "1. Add an item\n",
      "2. Remove an item\n",
      "3. View the list\n",
      "4. Exit\n",
      "Goodbye!\n"
     ]
    }
   ],
   "source": [
    "todo_list = []\n",
    "\n",
    "def show_menu():\n",
    "    print(\"\\nTo-Do List Menu:\")\n",
    "    print(\"1. Add an item\")\n",
    "    print(\"2. Remove an item\")\n",
    "    print(\"3. View the list\")\n",
    "    print(\"4. Exit\")\n",
    "\n",
    "while True:\n",
    "    show_menu()\n",
    "    choice = input(\"Choose an option (1-4): \")\n",
    "\n",
    "    if choice == '1':\n",
    "        item = input(\"Enter the item to add: \")\n",
    "        todo_list.append(item)\n",
    "        print(f\"'{item}' has been added to the list.\")\n",
    "    elif choice == '2':\n",
    "        item = input(\"Enter the item to remove: \")\n",
    "        if item in todo_list:\n",
    "            todo_list.remove(item)\n",
    "            print(f\"'{item}' has been removed from the list.\")\n",
    "        else:\n",
    "            print(f\"'{item}' is not in the list.\")\n",
    "    elif choice == '3':\n",
    "        print(\"To-Do List:\")\n",
    "        for index, item in enumerate(todo_list, start=1):\n",
    "            print(f\"{index}. {item}\")\n",
    "    elif choice == '4':\n",
    "        print(\"Goodbye!\")\n",
    "        break\n",
    "    else:\n",
    "        print(\"Invalid option, please try again.\")"
   ]
  },
  {
   "cell_type": "markdown",
   "metadata": {},
   "source": [
    "**3.10 Hw Hack #4**"
   ]
  },
  {
   "cell_type": "code",
   "execution_count": 15,
   "metadata": {
    "vscode": {
     "languageId": "javascript"
    }
   },
   "outputs": [
    {
     "data": {
      "application/javascript": "    \n< html lang = \"en\" >\n<head>\n    <meta charset=\"UTF-8\">\n    <meta name=\"viewport\" content=\"width=device-width, initial-scale=1.0\">\n    <title>Workout Tracker</title>\n    <style>\n        body {\n            font-family: Arial, sans-serif;\n            margin: 20px;\n        }\n        input {\n            margin: 5px;\n        }\n    </style>\n</head>\n<body>\n\n<h1>Workout Tracker</h1>\n\n<div>\n    <label for=\"type\">Workout Type:</label>\n    <input type=\"text\" id=\"type\" required>\n\n    <label for=\"duration\">Duration (minutes):</label>\n    <input type=\"number\" id=\"duration\" required>\n\n    <label for=\"calories\">Calories Burned:</label>\n    <input type=\"number\" id=\"calories\" required>\n\n    <button onclick=\"logWorkout()\">Log Workout</button>\n</div>\n\n<h2>Logged Workouts:</h2>\n<ul id=\"workoutList\"></ul>\n\n<script>\n    // Initialize an array to hold workouts\n    let workouts = [];\n\n    // Function to log a workout\n    function logWorkout() {\n        const type = document.getElementById('type').value;\n        const duration = document.ge\n",
      "text/plain": [
       "<IPython.core.display.Javascript object>"
      ]
     },
     "metadata": {},
     "output_type": "display_data"
    }
   ],
   "source": [
    "%%js\n",
    "    \n",
    "< html lang = \"en\" >\n",
    "<head>\n",
    "    <meta charset=\"UTF-8\">\n",
    "    <meta name=\"viewport\" content=\"width=device-width, initial-scale=1.0\">\n",
    "    <title>Workout Tracker</title>\n",
    "    <style>\n",
    "        body {\n",
    "            font-family: Arial, sans-serif;\n",
    "            margin: 20px;\n",
    "        }\n",
    "        input {\n",
    "            margin: 5px;\n",
    "        }\n",
    "    </style>\n",
    "</head>\n",
    "<body>\n",
    "\n",
    "<h1>Workout Tracker</h1>\n",
    "\n",
    "<div>\n",
    "    <label for=\"type\">Workout Type:</label>\n",
    "    <input type=\"text\" id=\"type\" required>\n",
    "\n",
    "    <label for=\"duration\">Duration (minutes):</label>\n",
    "    <input type=\"number\" id=\"duration\" required>\n",
    "\n",
    "    <label for=\"calories\">Calories Burned:</label>\n",
    "    <input type=\"number\" id=\"calories\" required>\n",
    "\n",
    "    <button onclick=\"logWorkout()\">Log Workout</button>\n",
    "</div>\n",
    "\n",
    "<h2>Logged Workouts:</h2>\n",
    "<ul id=\"workoutList\"></ul>\n",
    "\n",
    "<script>\n",
    "    // Initialize an array to hold workouts\n",
    "    let workouts = [];\n",
    "\n",
    "    // Function to log a workout\n",
    "    function logWorkout() {\n",
    "        const type = document.getElementById('type').value;\n",
    "        const duration = document.ge"
   ]
  }
 ],
 "metadata": {
  "kernelspec": {
   "display_name": "venv",
   "language": "python",
   "name": "python3"
  },
  "language_info": {
   "codemirror_mode": {
    "name": "ipython",
    "version": 3
   },
   "file_extension": ".py",
   "mimetype": "text/x-python",
   "name": "python",
   "nbconvert_exporter": "python",
   "pygments_lexer": "ipython3",
   "version": "3.12.3"
  }
 },
 "nbformat": 4,
 "nbformat_minor": 2
}
