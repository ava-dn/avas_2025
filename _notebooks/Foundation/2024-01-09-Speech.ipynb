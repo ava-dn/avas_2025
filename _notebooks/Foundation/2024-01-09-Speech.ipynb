{
 "cells": [
  {
   "cell_type": "markdown",
   "metadata": {
    "vscode": {
     "languageId": "plaintext"
    }
   },
   "source": [
    "**Major Takeaway**\n",
    "\n",
    "A major takeaway of this review was the importance of communication. Communication is something \n",
    "\n",
    "that is key to a goood project and can even be more important than the actual code. Also, creativity \n",
    "\n",
    "was talked about which is something I find interesting as I typically would not consider\n",
    "\n",
    "<img src=\"{{site.baseurl}}/images/q.jpg\" alt=\"Review photo\">"
   ]
  }
 ],
 "metadata": {
  "language_info": {
   "name": "python"
  }
 },
 "nbformat": 4,
 "nbformat_minor": 2
}
