{
 "cells": [
  {
   "cell_type": "code",
   "execution_count": null,
   "metadata": {
    "vscode": {
     "languageId": "yaml"
    }
   },
   "outputs": [],
   "source": [
    "---\n",
    "toc: true\n",
    "comments: false\n",
    "layout: post\n",
    "title: BI 4.1 Internet - Web Server \n",
    "description: Quick launch into Flask, sending and receiving data from a web server.\n",
    "courses: { csp: {week: 14 } }\n",
    "type: ccc\n",
    "menu: nav/sprint_4.html\n",
    "permalink: /sprint/4/extracreditspeech\n",
    "---"
   ]
  },
  {
   "cell_type": "markdown",
   "metadata": {
    "vscode": {
     "languageId": "plaintext"
    }
   },
   "source": [
    "**Major Takeaway**\n",
    "\n",
    "A major takeaway of this review was the importance of communication. Communication is something \n",
    "\n",
    "that is key to a goood project and can even be more important than the actual code. Also, \n",
    "\n",
    "creativity was talked about which is something I find interesting as I typically would not \n",
    "\n",
    "consider\n",
    "\n",
    "<img src=\"{{site.baseurl}}/images/q.jpeg\" alt=\"Review photo\">"
   ]
  }
 ],
 "metadata": {
  "language_info": {
   "name": "python"
  }
 },
 "nbformat": 4,
 "nbformat_minor": 2
}
