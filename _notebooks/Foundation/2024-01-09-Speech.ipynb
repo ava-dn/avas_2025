{
 "cells": [
  {
   "cell_type": "code",
   "execution_count": null,
   "metadata": {
    "vscode": {
     "languageId": "yaml"
    }
   },
   "outputs": [],
   "source": [
    "---\n",
    "toc: true\n",
    "comments: false\n",
    "layout: post\n",
    "title: Speech\n",
    "description: Major takeaways from the speech\n",
    "courses: { csp: {week: 14 } }\n",
    "type: ccc\n",
    "menu: nav/sprint_4.html\n",
    "permalink: /sprint/4/extracreditspeech\n",
    "---"
   ]
  },
  {
   "cell_type": "markdown",
   "metadata": {
    "vscode": {
     "languageId": "plaintext"
    }
   },
   "source": [
    "**Major Takeaway**\n",
    "\n",
    "A major takeaway of this review was the importance of communication. Communication \n",
    "\n",
    "is something that is key to a goood project and can even be more important \n",
    "\n",
    "than the actual code. Also, creativity was talked about which is something \n",
    "\n",
    "I find interesting as I did not think I would do in this class and it's\n",
    "\n",
    "something I've enjoyed a lot!\n",
    "\n",
    "<img src=\"{{site.baseurl}}/images/q.jpeg\" alt=\"Review photo\">"
   ]
  }
 ],
 "metadata": {
  "language_info": {
   "name": "python"
  }
 },
 "nbformat": 4,
 "nbformat_minor": 2
}
