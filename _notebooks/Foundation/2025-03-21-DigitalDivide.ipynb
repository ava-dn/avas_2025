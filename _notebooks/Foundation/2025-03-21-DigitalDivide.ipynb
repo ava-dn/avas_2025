{
 "cells": [
  {
   "cell_type": "markdown",
   "metadata": {},
   "source": [
    "## Digital Divide HW\n",
    "\n",
    "Popcorn Hack: Example Problem in MCQ\n",
    "\n",
    "Question: Which of the following actions are likely to be helpful in reducing \n",
    "\n",
    "the digital divide? Select two answers.\n",
    "\n",
    "Options\n",
    "\n",
    "A. Designing new technologies intended only for advanced users\n",
    "B. Designing new technologies to be accessible to individuals with different physical abilities\n",
    "C. Implementing government regulations restricting citizens’ access to Web content\n",
    "D. Having world governments support the construction of network infrastructure\n",
    "\n",
    "CORRECT ANSWERS: B & D\n",
    "\n",
    "\n",
    "\n",
    "\n",
    "## Popcorn Hack 2\n",
    "\n",
    "To fix the digital divide, we can expand access to affordable internet and technology, \n",
    "\n",
    "offer digital literacy programs, and ensure underserved communities receive support. \n",
    "\n",
    "Some efforts already include government-funded internet access and nonprofit initiatives. \n",
    "\n",
    "We can add more public Wi-Fi spaces and increase tech training for all ages to \n",
    "\n",
    "bridge the gap further.\n",
    "\n",
    "\n",
    "\n"
   ]
  },
  {
   "cell_type": "code",
   "execution_count": 4,
   "metadata": {},
   "outputs": [
    {
     "ename": "ModuleNotFoundError",
     "evalue": "No module named 'pandas'",
     "output_type": "error",
     "traceback": [
      "\u001b[0;31m---------------------------------------------------------------------------\u001b[0m",
      "\u001b[0;31mModuleNotFoundError\u001b[0m                       Traceback (most recent call last)",
      "Cell \u001b[0;32mIn[4], line 1\u001b[0m\n\u001b[0;32m----> 1\u001b[0m \u001b[38;5;28;01mimport\u001b[39;00m \u001b[38;5;21;01mpandas\u001b[39;00m \u001b[38;5;28;01mas\u001b[39;00m \u001b[38;5;21;01mpd\u001b[39;00m\n\u001b[1;32m      3\u001b[0m \u001b[38;5;66;03m# Read and clean the data\u001b[39;00m\n\u001b[1;32m      4\u001b[0m data \u001b[38;5;241m=\u001b[39m pd\u001b[38;5;241m.\u001b[39mread_csv(\u001b[38;5;124m\"\u001b[39m\u001b[38;5;124minternet_users.csv\u001b[39m\u001b[38;5;124m\"\u001b[39m)\u001b[38;5;241m.\u001b[39mdrop(columns\u001b[38;5;241m=\u001b[39m[\u001b[38;5;124m'\u001b[39m\u001b[38;5;124mNotes\u001b[39m\u001b[38;5;124m'\u001b[39m, \u001b[38;5;124m'\u001b[39m\u001b[38;5;124mYear.2\u001b[39m\u001b[38;5;124m'\u001b[39m, \u001b[38;5;124m'\u001b[39m\u001b[38;5;124mUsers (CIA)\u001b[39m\u001b[38;5;124m'\u001b[39m, \u001b[38;5;124m'\u001b[39m\u001b[38;5;124mRate (ITU)\u001b[39m\u001b[38;5;124m'\u001b[39m, \u001b[38;5;124m'\u001b[39m\u001b[38;5;124mYear.1\u001b[39m\u001b[38;5;124m'\u001b[39m])\n",
      "\u001b[0;31mModuleNotFoundError\u001b[0m: No module named 'pandas'"
     ]
    }
   ],
   "source": [
    "import pandas as pd\n",
    "\n",
    "# Read and clean the data\n",
    "data = pd.read_csv(\"internet_users.csv\").drop(columns=['Notes', 'Year.2', 'Users (CIA)', 'Rate (ITU)', 'Year.1'])\n",
    "data_cleaned = data.dropna()\n",
    "\n",
    "# Access the necessary columns\n",
    "y = data_cleaned['Rate (WB)']\n",
    "name = data_cleaned['Location']\n",
    "\n",
    "# Loop through the data and print the results\n",
    "for country, rate in zip(name, y):\n",
    "    if rate > 70:\n",
    "        print(f\"{country}: {rate}%: doing great\")\n",
    "    else:\n",
    "        print(f\"{country}: {rate}%: needs improvement\")\n"
   ]
  },
  {
   "cell_type": "markdown",
   "metadata": {},
   "source": [
    "- added a loop to iterate through each row of the cleaned dataset, checking the value of Rate (WB) (internet access percentage).\n",
    "\n",
    "= Depending on whether the percentage is above or below 70%, the program prints the country name, the percentage, and either \"doing great\" or \"needs improvement.\"\n",
    "\n",
    "- The solution uses a simple conditional statement within a loop to generate the desired output for each country."
   ]
  }
 ],
 "metadata": {
  "kernelspec": {
   "display_name": "venv",
   "language": "python",
   "name": "python3"
  },
  "language_info": {
   "codemirror_mode": {
    "name": "ipython",
    "version": 3
   },
   "file_extension": ".py",
   "mimetype": "text/x-python",
   "name": "python",
   "nbconvert_exporter": "python",
   "pygments_lexer": "ipython3",
   "version": "3.12.3"
  }
 },
 "nbformat": 4,
 "nbformat_minor": 2
}
