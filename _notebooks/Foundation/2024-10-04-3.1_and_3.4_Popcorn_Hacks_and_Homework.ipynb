{
 "cells": [
  {
   "cell_type": "markdown",
   "metadata": {},
   "source": [
    "3.1.1 Python Popcorn Hacks"
   ]
  },
  {
   "cell_type": "code",
   "execution_count": 4,
   "metadata": {},
   "outputs": [
    {
     "name": "stdout",
     "output_type": "stream",
     "text": [
      "Risha Vibha Ava\n"
     ]
    }
   ],
   "source": [
    "player_one = \"Risha\"\n",
    "Player_two = \"Vibha\"\n",
    "player_three = \"Ava\"\n",
    "\n",
    "print(player_one, Player_two, player_three)"
   ]
  },
  {
   "cell_type": "markdown",
   "metadata": {},
   "source": [
    "3.1.2 Python Popcorn Hack"
   ]
  },
  {
   "cell_type": "code",
   "execution_count": 5,
   "metadata": {},
   "outputs": [
    {
     "name": "stdout",
     "output_type": "stream",
     "text": [
      "Lemon\n",
      "Sour\n",
      "Yellow\n"
     ]
    }
   ],
   "source": [
    "personal_info = {\n",
    "    \"name\": \"Lemon\",\n",
    "    \"taste\": \"Sour\",\n",
    "    \"color\": \"Yellow\"\n",
    "}\n",
    "\n",
    "print(personal_info[\"name\"])\n",
    "print(personal_info[\"taste\"])\n",
    "print(personal_info[\"color\"])"
   ]
  },
  {
   "cell_type": "markdown",
   "metadata": {},
   "source": [
    "3.1.4 Javascript Popcorn Hack"
   ]
  },
  {
   "cell_type": "code",
   "execution_count": 6,
   "metadata": {
    "vscode": {
     "languageId": "javascript"
    }
   },
   "outputs": [
    {
     "data": {
      "application/javascript": "\nlet colors = [\"yellow\", \"green\", \"pink\", \"blue\"];\nconsole.log(\"Array: \", colors);\nelement.append(\"Array: \" + colors.join(\", \"));\n",
      "text/plain": [
       "<IPython.core.display.Javascript object>"
      ]
     },
     "metadata": {},
     "output_type": "display_data"
    }
   ],
   "source": [
    "%%js\n",
    "\n",
    "let colors = [\"yellow\", \"green\", \"pink\", \"blue\"];\n",
    "console.log(\"Array: \", colors);\n",
    "element.append(\"Array: \" + colors.join(\", \"));"
   ]
  },
  {
   "cell_type": "markdown",
   "metadata": {
    "vscode": {
     "languageId": "javascript"
    }
   },
   "source": [
    "3.4.2 Javascript Popcorn Hack"
   ]
  },
  {
   "cell_type": "code",
   "execution_count": 7,
   "metadata": {
    "vscode": {
     "languageId": "javascript"
    }
   },
   "outputs": [
    {
     "data": {
      "application/javascript": "\n\nconst lyrics = `When the sun is shining bright,\nAnd the world feels right,\nYou can chase your dreams,\nAnd reach new heights.\n\nChorus:\nDream big, dream big,\nLet your heart take flight.\nDream big, dream big,\nShine like a light.\n\nWhen the stars come out,\nAnd the night is clear,\nYou will find your way,\nJust have no fear.\n\nChorus:\nDream big, dream big,\nLet your heart take flight.\nDream big, dream big,\nShine like a light.`;\n\nconst title = \"Dream big\";\n\nconst titleCount = (lyrics.match(new RegExp(title, \"g\")) || []).length;\nconsole.log(`The title \"${title}\" appears ${titleCount} times.`);\n\nconst words = lyrics.split(/\\s+/);\nconst wordIndex = words[49] ? lyrics.indexOf(words[49]) : -1; \nconsole.log(`The index of the 50th word is: ${wordIndex}`);\n\nconst verses = lyrics.split(/\\n\\n/);\nconst modifiedLyrics = lyrics.replace(verses[0], verses[verses.length - 1]);\nconsole.log(\"Modified Lyrics:\\n\", modifiedLyrics);\n\nconst newSong = verses[0] + \"\\n\\n\" + verses[1];\nconsole.log(\"Your New Song:\\n\", newSong);\n",
      "text/plain": [
       "<IPython.core.display.Javascript object>"
      ]
     },
     "metadata": {},
     "output_type": "display_data"
    }
   ],
   "source": [
    "%%js\n",
    "\n",
    "\n",
    "const lyrics = `When the sun is shining bright,\n",
    "And the world feels right,\n",
    "You can chase your dreams,\n",
    "And reach new heights.\n",
    "\n",
    "Chorus:\n",
    "Dream big, dream big,\n",
    "Let your heart take flight.\n",
    "Dream big, dream big,\n",
    "Shine like a light.\n",
    "\n",
    "When the stars come out,\n",
    "And the night is clear,\n",
    "You will find your way,\n",
    "Just have no fear.\n",
    "\n",
    "Chorus:\n",
    "Dream big, dream big,\n",
    "Let your heart take flight.\n",
    "Dream big, dream big,\n",
    "Shine like a light.`;\n",
    "\n",
    "const title = \"Dream big\";\n",
    "\n",
    "const titleCount = (lyrics.match(new RegExp(title, \"g\")) || []).length;\n",
    "console.log(`The title \"${title}\" appears ${titleCount} times.`);\n",
    "\n",
    "const words = lyrics.split(/\\s+/);\n",
    "const wordIndex = words[49] ? lyrics.indexOf(words[49]) : -1; \n",
    "console.log(`The index of the 50th word is: ${wordIndex}`);\n",
    "\n",
    "const verses = lyrics.split(/\\n\\n/);\n",
    "const modifiedLyrics = lyrics.replace(verses[0], verses[verses.length - 1]);\n",
    "console.log(\"Modified Lyrics:\\n\", modifiedLyrics);\n",
    "\n",
    "const newSong = verses[0] + \"\\n\\n\" + verses[1];\n",
    "console.log(\"Your New Song:\\n\", newSong);"
   ]
  },
  {
   "cell_type": "markdown",
   "metadata": {
    "vscode": {
     "languageId": "javascript"
    }
   },
   "source": [
    "3.4.3 Javascript Popcorn Hack"
   ]
  },
  {
   "cell_type": "code",
   "execution_count": 8,
   "metadata": {
    "vscode": {
     "languageId": "javascript"
    }
   },
   "outputs": [
    {
     "data": {
      "application/javascript": "\nconst flower = \"sunflower\";\nconst animal = \"French Bulldog\";\nconst newCreature = `${flower}${animal}`; // This creates \"Sunflowerdog\"\n\nconsole.log(newCreature); // Output: Sunflowerdog\n",
      "text/plain": [
       "<IPython.core.display.Javascript object>"
      ]
     },
     "metadata": {},
     "output_type": "display_data"
    }
   ],
   "source": [
    "%%js\n",
    "\n",
    "const flower = \"sunflower\";\n",
    "const animal = \"French Bulldog\";\n",
    "const newCreature = `${flower}${animal}`; // This creates \"Sunflowerdog\"\n",
    "\n",
    "console.log(newCreature); // Output: Sunflowerdog"
   ]
  },
  {
   "cell_type": "code",
   "execution_count": 9,
   "metadata": {
    "vscode": {
     "languageId": "javascript"
    }
   },
   "outputs": [
    {
     "data": {
      "application/javascript": "\nconst creatureName = newCreature;\nconst habitat = \"a sunny park\";\nconst specialAbility = \"brighten everyone's day\";\nconst friend = \"a playful kitten\";\n\nconst story = `\nIn a ${habitat}, there lived a delightful creature named ${creatureName}. With its vibrant yellow petals and charming face, the ${creatureName} was adored by all.\n\nOne bright afternoon, as the ${creatureName} was basking in the sun, ${friend} pranced over and said, \"Hey, ${creatureName}! What are you doing today?\"\n\n\"I'm just soaking up the sunshine and practicing my special ability to ${specialAbility}!\" replied the ${creatureName}, wagging its tail happily.\n\n\"That sounds amazing! Can I join you?\" asked the kitten, its eyes sparkling with excitement.\n\n\"Of course! Let's spread joy together!\" exclaimed the ${creatureName}.\n\nAs they played, the ${creatureName} danced around, and everyone in the park couldn't help but smile. Together, they made the day brighter, creating a beautiful scene filled with laughter and cheer.\n\n\"Thank you for being such a great friend, ${friend}!\" said the ${creatureName}. \"Let's make every day a sunny one!\"\n`;\n\nconsole.log(story);\n",
      "text/plain": [
       "<IPython.core.display.Javascript object>"
      ]
     },
     "metadata": {},
     "output_type": "display_data"
    }
   ],
   "source": [
    "%%js\n",
    "\n",
    "const creatureName = newCreature;\n",
    "const habitat = \"a sunny park\";\n",
    "const specialAbility = \"brighten everyone's day\";\n",
    "const friend = \"a playful kitten\";\n",
    "\n",
    "const story = `\n",
    "In a ${habitat}, there lived a delightful creature named ${creatureName}. With its vibrant yellow petals and charming face, the ${creatureName} was adored by all.\n",
    "\n",
    "One bright afternoon, as the ${creatureName} was basking in the sun, ${friend} pranced over and said, \"Hey, ${creatureName}! What are you doing today?\"\n",
    "\n",
    "\"I'm just soaking up the sunshine and practicing my special ability to ${specialAbility}!\" replied the ${creatureName}, wagging its tail happily.\n",
    "\n",
    "\"That sounds amazing! Can I join you?\" asked the kitten, its eyes sparkling with excitement.\n",
    "\n",
    "\"Of course! Let's spread joy together!\" exclaimed the ${creatureName}.\n",
    "\n",
    "As they played, the ${creatureName} danced around, and everyone in the park couldn't help but smile. Together, they made the day brighter, creating a beautiful scene filled with laughter and cheer.\n",
    "\n",
    "\"Thank you for being such a great friend, ${friend}!\" said the ${creatureName}. \"Let's make every day a sunny one!\"\n",
    "`;\n",
    "\n",
    "console.log(story);"
   ]
  },
  {
   "cell_type": "markdown",
   "metadata": {},
   "source": [
    "3.1.3 Main Hack"
   ]
  },
  {
   "cell_type": "code",
   "execution_count": 10,
   "metadata": {
    "vscode": {
     "languageId": "javascript"
    }
   },
   "outputs": [
    {
     "data": {
      "application/javascript": "\nconst name = \"Coco\" \nlet age = \"1\";         \nlet favoriteTreat = \"Banana\"; \n\nfunction createSentence() {\n    return `${name} is ${age} years old and loves ${favoriteTreat}.`;\n}\n\nconsole.log(createSentence());\n\nconsole.log(\"Name:\", name);\nconsole.log(\"Age:\", age);   \nconsole.log(\"Favorite Treat:\", favoriteTreat); \n\nage = 2; \nconsole.log(\"Updated Age:\", age);\n",
      "text/plain": [
       "<IPython.core.display.Javascript object>"
      ]
     },
     "metadata": {},
     "output_type": "display_data"
    }
   ],
   "source": [
    "%%js\n",
    "\n",
    "const name = \"Coco\" \n",
    "let age = \"1\";         \n",
    "let favoriteTreat = \"Banana\"; \n",
    "\n",
    "function createSentence() {\n",
    "    return `${name} is ${age} years old and loves ${favoriteTreat}.`;\n",
    "}\n",
    "\n",
    "console.log(createSentence());\n",
    "\n",
    "console.log(\"Name:\", name);\n",
    "console.log(\"Age:\", age);   \n",
    "console.log(\"Favorite Treat:\", favoriteTreat); \n",
    "\n",
    "age = 2; \n",
    "console.log(\"Updated Age:\", age);"
   ]
  },
  {
   "cell_type": "markdown",
   "metadata": {},
   "source": [
    "3.1.4 Main Hack"
   ]
  },
  {
   "cell_type": "code",
   "execution_count": 11,
   "metadata": {
    "vscode": {
     "languageId": "javascript"
    }
   },
   "outputs": [
    {
     "data": {
      "application/javascript": "\n<!DOCTYPE html>\n<html lang=\"en\">\n<head>\n    <meta charset=\"UTF-8\">\n    <meta name=\"viewport\" content=\"width=device-width, initial-scale=1.0\">\n    <title>Average Grade Calculator</title>\n</head>\n<body>\n    <h1>Average Grade Calculator</h1>\n    <div>\n        <label for=\"scores\">Enter scores (comma-separated):</label>\n        <input type=\"text\" id=\"scores\" placeholder=\"e.g., 85, 90, 78\">\n        <button onclick=\"calculateAverage()\">Calculate Average</button>\n    </div>\n\n    <h2>Results</h2>\n    <pre id=\"output\"></pre>\n\n    <script>\n        function calculateAverage() {\n            const scoresInput = document.getElementById('scores').value;\n            const scoresArray = scoresInput.split(',').map(score => parseInt(score.trim(), 10)); // Convert to integers\n            const total = scoresArray.reduce((acc, score) => acc + score, 0);\n            const averageGrade = total / scoresArray.length;\n\n            // Student information\n            const studentInfo = {\n                name: \"Coco\",\n                age: 12,\n                averageGrade: averageGrade.toFixed(2) // Display average to 2 decimal places\n            };\n\n            // Display results\n            document.getElementById('output').innerText = \n                `Student Name: ${studentInfo.name}\\n` +\n                `Student Age: ${studentInfo.age}\\n` +\n                `Average Grade: ${studentInfo.averageGrade}`;\n        }\n    </script>\n</body>\n</html>\n",
      "text/plain": [
       "<IPython.core.display.Javascript object>"
      ]
     },
     "metadata": {},
     "output_type": "display_data"
    }
   ],
   "source": [
    "%%js\n",
    "\n",
    "<!DOCTYPE html>\n",
    "<html lang=\"en\">\n",
    "<head>\n",
    "    <meta charset=\"UTF-8\">\n",
    "    <meta name=\"viewport\" content=\"width=device-width, initial-scale=1.0\">\n",
    "    <title>Average Grade Calculator</title>\n",
    "</head>\n",
    "<body>\n",
    "    <h1>Average Grade Calculator</h1>\n",
    "    <div>\n",
    "        <label for=\"scores\">Enter scores (comma-separated):</label>\n",
    "        <input type=\"text\" id=\"scores\" placeholder=\"e.g., 85, 90, 78\">\n",
    "        <button onclick=\"calculateAverage()\">Calculate Average</button>\n",
    "    </div>\n",
    "\n",
    "    <h2>Results</h2>\n",
    "    <pre id=\"output\"></pre>\n",
    "\n",
    "    <script>\n",
    "        function calculateAverage() {\n",
    "            const scoresInput = document.getElementById('scores').value;\n",
    "            const scoresArray = scoresInput.split(',').map(score => parseInt(score.trim(), 10)); // Convert to integers\n",
    "            const total = scoresArray.reduce((acc, score) => acc + score, 0);\n",
    "            const averageGrade = total / scoresArray.length;\n",
    "\n",
    "            // Student information\n",
    "            const studentInfo = {\n",
    "                name: \"Coco\",\n",
    "                age: 12,\n",
    "                averageGrade: averageGrade.toFixed(2) // Display average to 2 decimal places\n",
    "            };\n",
    "\n",
    "            // Display results\n",
    "            document.getElementById('output').innerText = \n",
    "                `Student Name: ${studentInfo.name}\\n` +\n",
    "                `Student Age: ${studentInfo.age}\\n` +\n",
    "                `Average Grade: ${studentInfo.averageGrade}`;\n",
    "        }\n",
    "    </script>\n",
    "</body>\n",
    "</html>"
   ]
  },
  {
   "cell_type": "markdown",
   "metadata": {},
   "source": [
    "3.4.4"
   ]
  },
  {
   "cell_type": "code",
   "execution_count": 14,
   "metadata": {
    "vscode": {
     "languageId": "html"
    }
   },
   "outputs": [
    {
     "data": {
      "text/html": [
       "\n",
       "    <title>Text Analyzer</title>\n",
       "    <style>\n",
       "        body { font-family: Arial, sans-serif; }\n",
       "        h2 { margin-top: 20px; }\n",
       "        pre { background-color: #f4f4f4; padding: 10px; }\n",
       "    </style>\n",
       "</head>\n",
       "<body>\n",
       "    <h1>Text Analyzer</h1>\n",
       "    <textarea id=\"inputText\" rows=\"4\" cols=\"50\" placeholder=\"Enter your text here...\"></textarea><br>\n",
       "    <button onclick=\"analyzeText()\">Analyze Text</button>\n",
       "\n",
       "    <h2>Replace Words</h2>\n",
       "    <input id=\"wordToReplace\" placeholder=\"Word to replace\">\n",
       "    <input id=\"replacementWord\" placeholder=\"Replacement word\">\n",
       "    <button onclick=\"replaceWord()\">Replace Word</button>\n",
       "\n",
       "    <h2>Results</h2>\n",
       "    <pre id=\"output\"></pre>\n",
       "\n",
       "    <script>\n",
       "        let originalText = '';\n",
       "\n",
       "        function analyzeText() {\n",
       "            const inputText = document.getElementById('inputText').value.trim();\n",
       "            originalText = inputText; // Store original text\n",
       "            \n",
       "            if (!inputText) {\n",
       "                document.getElementById('output').innerText = 'Please enter some text!';\n",
       "                return;\n",
       "            }\n",
       "\n",
       "            const charCount = inputText.length;\n",
       "\n",
       "            const words = inputText.match(/\\S+/g) || [];\n",
       "            const longestWord = words.reduce((a, b) => a.length >= b.length ? a : b, '');\n",
       "            const longestWordLength = longestWord.length;\n",
       "\n",
       "            const reversedText = inputText.split('').reverse().join('');\n",
       "\n",
       "            const cleanedWords = inputText.match(/\\w+/g) || [];\n",
       "            const middleIndex = Math.floor(cleanedWords.length / 2);\n",
       "            const middleWord = cleanedWords[middleIndex] || '';\n",
       "\n",
       "            document.getElementById('output').innerText = \n",
       "                `Original Text: ${originalText}\\n` +\n",
       "                `Total Characters: ${charCount}\\n` +\n",
       "                `Longest Word: \"${longestWord}\" (${longestWordLength} characters)\\n` +\n",
       "                `Reversed Text: ${reversedText}\\n` +\n",
       "                `Middle Word: \"${middleWord}\"`;\n",
       "        }\n",
       "\n",
       "        function replaceWord() {\n",
       "            const wordToReplace = document.getElementById('wordToReplace').value.trim();\n",
       "            const replacementWord = document.getElementById('replacementWord').value.trim();\n",
       "            if (!wordToReplace) {\n",
       "                document.getElementById('output').innerText += `\\n\\nPlease specify a word to replace!`;\n",
       "                return;\n",
       "            }\n",
       "            const updatedText = originalText.replace(new RegExp(wordToReplace, 'gi'), replacementWord); // Replace all occurrences\n",
       "\n",
       "            document.getElementById('output').innerText += `\\n\\nUpdated Text:\\n${updatedText}`;\n",
       "        }\n",
       "    </script>\n"
      ],
      "text/plain": [
       "<IPython.core.display.HTML object>"
      ]
     },
     "metadata": {},
     "output_type": "display_data"
    }
   ],
   "source": [
    "%%html\n",
    "\n",
    "    <title>Text Analyzer</title>\n",
    "    <style>\n",
    "        body { font-family: Arial, sans-serif; }\n",
    "        h2 { margin-top: 20px; }\n",
    "        pre { background-color: #f4f4f4; padding: 10px; }\n",
    "    </style>\n",
    "</head>\n",
    "<body>\n",
    "    <h1>Text Analyzer</h1>\n",
    "    <textarea id=\"inputText\" rows=\"4\" cols=\"50\" placeholder=\"Enter your text here...\"></textarea><br>\n",
    "    <button onclick=\"analyzeText()\">Analyze Text</button>\n",
    "\n",
    "    <h2>Replace Words</h2>\n",
    "    <input id=\"wordToReplace\" placeholder=\"Word to replace\">\n",
    "    <input id=\"replacementWord\" placeholder=\"Replacement word\">\n",
    "    <button onclick=\"replaceWord()\">Replace Word</button>\n",
    "\n",
    "    <h2>Results</h2>\n",
    "    <pre id=\"output\"></pre>\n",
    "\n",
    "    <script>\n",
    "        let originalText = '';\n",
    "\n",
    "        function analyzeText() {\n",
    "            const inputText = document.getElementById('inputText').value.trim();\n",
    "            originalText = inputText; // Store original text\n",
    "            \n",
    "            if (!inputText) {\n",
    "                document.getElementById('output').innerText = 'Please enter some text!';\n",
    "                return;\n",
    "            }\n",
    "\n",
    "            const charCount = inputText.length;\n",
    "\n",
    "            const words = inputText.match(/\\S+/g) || [];\n",
    "            const longestWord = words.reduce((a, b) => a.length >= b.length ? a : b, '');\n",
    "            const longestWordLength = longestWord.length;\n",
    "\n",
    "            const reversedText = inputText.split('').reverse().join('');\n",
    "\n",
    "            const cleanedWords = inputText.match(/\\w+/g) || [];\n",
    "            const middleIndex = Math.floor(cleanedWords.length / 2);\n",
    "            const middleWord = cleanedWords[middleIndex] || '';\n",
    "\n",
    "            document.getElementById('output').innerText = \n",
    "                `Original Text: ${originalText}\\n` +\n",
    "                `Total Characters: ${charCount}\\n` +\n",
    "                `Longest Word: \"${longestWord}\" (${longestWordLength} characters)\\n` +\n",
    "                `Reversed Text: ${reversedText}\\n` +\n",
    "                `Middle Word: \"${middleWord}\"`;\n",
    "        }\n",
    "\n",
    "        function replaceWord() {\n",
    "            const wordToReplace = document.getElementById('wordToReplace').value.trim();\n",
    "            const replacementWord = document.getElementById('replacementWord').value.trim();\n",
    "            if (!wordToReplace) {\n",
    "                document.getElementById('output').innerText += `\\n\\nPlease specify a word to replace!`;\n",
    "                return;\n",
    "            }\n",
    "            const updatedText = originalText.replace(new RegExp(wordToReplace, 'gi'), replacementWord); // Replace all occurrences\n",
    "\n",
    "            document.getElementById('output').innerText += `\\n\\nUpdated Text:\\n${updatedText}`;\n",
    "        }\n",
    "    </script>\n"
   ]
  }
 ],
 "metadata": {
  "kernelspec": {
   "display_name": "venv",
   "language": "python",
   "name": "python3"
  },
  "language_info": {
   "codemirror_mode": {
    "name": "ipython",
    "version": 3
   },
   "file_extension": ".py",
   "mimetype": "text/x-python",
   "name": "python",
   "nbconvert_exporter": "python",
   "pygments_lexer": "ipython3",
   "version": "3.12.3"
  }
 },
 "nbformat": 4,
 "nbformat_minor": 2
}
