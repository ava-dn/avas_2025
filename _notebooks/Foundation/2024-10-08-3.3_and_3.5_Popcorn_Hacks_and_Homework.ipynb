{
 "cells": [
  {
   "cell_type": "markdown",
   "metadata": {
    "vscode": {
     "languageId": "plaintext"
    }
   },
   "source": [
    "**Popcorn Hack 3.3.3**"
   ]
  },
  {
   "cell_type": "code",
   "execution_count": 1,
   "metadata": {},
   "outputs": [
    {
     "name": "stdout",
     "output_type": "stream",
     "text": [
      "The sum of the integers is: 15\n"
     ]
    }
   ],
   "source": [
    "integers = [1, 2, 3, 4, 5]\n",
    "\n",
    "total_sum = sum(integers)\n",
    "\n",
    "print(\"The sum of the integers is:\", total_sum)\n"
   ]
  },
  {
   "cell_type": "markdown",
   "metadata": {},
   "source": [
    "**Easy Popcorn Hack 3.3.4**"
   ]
  },
  {
   "cell_type": "code",
   "execution_count": 3,
   "metadata": {
    "vscode": {
     "languageId": "javascript"
    }
   },
   "outputs": [
    {
     "data": {
      "application/javascript": "\nfunction basicOperations(a, b) {\n    let sum = a + b;\n    let difference = a - b;\n    let product = a * b;\n    let quotient = a / b;\n\n    console.log(`Addition: ${a} + ${b} = ${sum}`);\n    console.log(`Subtraction: ${a} - ${b} = ${difference}`);\n    console.log(`Multiplication: ${a} * ${b} = ${product}`);\n    console.log(`Division: ${a} / ${b} = ${quotient}`);\n}\n\nbasicOperations(4, 8);\n",
      "text/plain": [
       "<IPython.core.display.Javascript object>"
      ]
     },
     "metadata": {},
     "output_type": "display_data"
    }
   ],
   "source": [
    "%%js\n",
    "\n",
    "function basicOperations(a, b) {\n",
    "    let sum = a + b;\n",
    "    let difference = a - b;\n",
    "    let product = a * b;\n",
    "    let quotient = a / b;\n",
    "\n",
    "    console.log(`Addition: ${a} + ${b} = ${sum}`);\n",
    "    console.log(`Subtraction: ${a} - ${b} = ${difference}`);\n",
    "    console.log(`Multiplication: ${a} * ${b} = ${product}`);\n",
    "    console.log(`Division: ${a} / ${b} = ${quotient}`);\n",
    "}\n",
    "\n",
    "basicOperations(4, 8);"
   ]
  },
  {
   "cell_type": "markdown",
   "metadata": {
    "vscode": {
     "languageId": "javascript"
    }
   },
   "source": [
    "**Medium Popcorn Hack 3.3.4**"
   ]
  },
  {
   "cell_type": "code",
   "execution_count": 11,
   "metadata": {
    "vscode": {
     "languageId": "javascript"
    }
   },
   "outputs": [
    {
     "data": {
      "application/javascript": "\nfunction makeSandwich() {\n    const ingredients = [];\n    let numberOfIngredients = parseInt(prompt(\"How many ingredients would you like in your sandwich?\"), 10);\n    \n    while (isNaN(numberOfIngredients) || numberOfIngredients <= 0) {\n        numberOfIngredients = parseInt(prompt(\"Please enter a valid number of ingredients:\"), 10);\n    }\n    \n    for (let i = 0; i < numberOfIngredients; i++) {\n        const ingredient = prompt(`Enter ingredient ${i + 1}:`);\n        if (ingredient) {\n            ingredients.push(ingredient);\n        } else {\n            alert(\"Empty ingredient! Please try again.\");\n            i--;\n        }\n    }\n\n    const sandwichName = prompt(\"What would you like to name your sandwich?\");\n\n    console.log(`You've made a sandwich named \"${sandwichName}\" with the following ingredients:`);\n    ingredients.forEach(ingredient => {\n        console.log(`- ${ingredient}`);\n    });\n}\n\nmakeSandwich();\n",
      "text/plain": [
       "<IPython.core.display.Javascript object>"
      ]
     },
     "metadata": {},
     "output_type": "display_data"
    }
   ],
   "source": [
    "%%js\n",
    "\n",
    "function makeSandwich() {\n",
    "    const ingredients = [];\n",
    "    let numberOfIngredients = parseInt(prompt(\"How many ingredients would you like in your sandwich?\"), 10);\n",
    "    \n",
    "    while (isNaN(numberOfIngredients) || numberOfIngredients <= 0) {\n",
    "        numberOfIngredients = parseInt(prompt(\"Please enter a valid number of ingredients:\"), 10);\n",
    "    }\n",
    "    \n",
    "    for (let i = 0; i < numberOfIngredients; i++) {\n",
    "        const ingredient = prompt(`Enter ingredient ${i + 1}:`);\n",
    "        if (ingredient) {\n",
    "            ingredients.push(ingredient);\n",
    "        } else {\n",
    "            alert(\"Empty ingredient! Please try again.\");\n",
    "            i--;\n",
    "        }\n",
    "    }\n",
    "\n",
    "    const sandwichName = prompt(\"What would you like to name your sandwich?\");\n",
    "\n",
    "    console.log(`You've made a sandwich named \"${sandwichName}\" with the following ingredients:`);\n",
    "    ingredients.forEach(ingredient => {\n",
    "        console.log(`- ${ingredient}`);\n",
    "    });\n",
    "}\n",
    "\n",
    "makeSandwich();"
   ]
  },
  {
   "cell_type": "markdown",
   "metadata": {},
   "source": [
    "**Popcorn Hack 3.5.3**"
   ]
  },
  {
   "cell_type": "code",
   "execution_count": 4,
   "metadata": {},
   "outputs": [
    {
     "name": "stdout",
     "output_type": "stream",
     "text": [
      "The number is non-negative.\n"
     ]
    }
   ],
   "source": [
    "def check_number():\n",
    "    try:\n",
    "        number = float(input(\"Please enter a number: \"))\n",
    "        print(\"The number is negative.\" if number < 0 else \"The number is non-negative.\")\n",
    "    except ValueError:\n",
    "        print(\"Invalid input! Please enter a valid number.\")\n",
    "\n",
    "check_number()"
   ]
  },
  {
   "cell_type": "markdown",
   "metadata": {},
   "source": [
    "**3.5.3 Popcorn Hack**"
   ]
  },
  {
   "cell_type": "code",
   "execution_count": null,
   "metadata": {},
   "outputs": [],
   "source": [
    "def check_vowel(char):\n",
    "    vowels = 'aeiou'\n",
    "    if char.lower() in vowels:\n",
    "        print(f\"The character '{char}' is a vowel.\")\n",
    "    else:\n",
    "        print(f\"The character '{char}' is not a vowel.\")\n",
    "\n",
    "char = input(\"Enter a character: \")\n",
    "\n",
    "if char.isalpha() and len(char) == 1:\n",
    "    check_vowel(char)\n",
    "else:\n",
    "    print(\"Please enter a single alphabetical character.\")"
   ]
  },
  {
   "cell_type": "markdown",
   "metadata": {},
   "source": [
    "**3.5.4 Popcorn Hack**"
   ]
  },
  {
   "cell_type": "code",
   "execution_count": 9,
   "metadata": {
    "vscode": {
     "languageId": "javascript"
    }
   },
   "outputs": [
    {
     "data": {
      "application/javascript": "\nfunction check(num) {\n    if (!(num % 2)) {\n        return true;\n    }\n    return false;\n}\n\nconst number = parseInt(prompt(\"Enter a number: \"), 10);\nif (check(number)) {\n    console.log(`The number ${number} is even.`);\n} else {\n    console.log(`The number ${number} is odd.`);\n}\n",
      "text/plain": [
       "<IPython.core.display.Javascript object>"
      ]
     },
     "metadata": {},
     "output_type": "display_data"
    }
   ],
   "source": [
    "%%js\n",
    "\n",
    "function check(num) {\n",
    "    if (!(num % 2)) {\n",
    "        return true;\n",
    "    }\n",
    "    return false;\n",
    "}\n",
    "\n",
    "const number = parseInt(prompt(\"Enter a number: \"), 10);\n",
    "if (check(number)) {\n",
    "    console.log(`The number ${number} is even.`);\n",
    "} else {\n",
    "    console.log(`The number ${number} is odd.`);\n",
    "}"
   ]
  }
 ],
 "metadata": {
  "kernelspec": {
   "display_name": "venv",
   "language": "python",
   "name": "python3"
  },
  "language_info": {
   "codemirror_mode": {
    "name": "ipython",
    "version": 3
   },
   "file_extension": ".py",
   "mimetype": "text/x-python",
   "name": "python",
   "nbconvert_exporter": "python",
   "pygments_lexer": "ipython3",
   "version": "3.12.3"
  }
 },
 "nbformat": 4,
 "nbformat_minor": 2
}
