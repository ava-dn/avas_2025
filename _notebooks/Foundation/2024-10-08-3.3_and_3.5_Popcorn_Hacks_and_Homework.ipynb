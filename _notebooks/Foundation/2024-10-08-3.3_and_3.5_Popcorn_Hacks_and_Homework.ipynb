{
 "cells": [
  {
   "cell_type": "markdown",
   "metadata": {},
   "source": [
    "**3.3.3 Easy Popcorn Hack**"
   ]
  },
  {
   "cell_type": "code",
   "execution_count": 1,
   "metadata": {},
   "outputs": [
    {
     "name": "stdout",
     "output_type": "stream",
     "text": [
      "The total sum from 1 to 5 is: 15\n"
     ]
    }
   ],
   "source": [
    "n = int(input(\"Enter a number n: \"))\n",
    "\n",
    "total_sum = 0\n",
    "\n",
    "for i in range(1, n + 1):\n",
    "    total_sum += i  \n",
    "\n",
    "print(f\"The total sum from 1 to {n} is: {total_sum}\")\n"
   ]
  },
  {
   "cell_type": "markdown",
   "metadata": {},
   "source": [
    "**3.3.3 Medium Popcorn Hack**"
   ]
  },
  {
   "cell_type": "code",
   "execution_count": 3,
   "metadata": {},
   "outputs": [
    {
     "name": "stdout",
     "output_type": "stream",
     "text": [
      "Let's make a sandwich!\n",
      "\n",
      "Here is your sandwich, named 'healthy sandwich':\n",
      "Your sandwich on sourdough bread with chicken, cheddar cheese, with avocado and sour sauce.\n"
     ]
    }
   ],
   "source": [
    "def make_sandwich():\n",
    "    print(\"Let's make a sandwich!\")\n",
    "\n",
    "    bread = input(\"What type of bread would you like? \")\n",
    "    protein = input(\"What protein would you like (e.g., turkey, ham, tofu)? \")\n",
    "    cheese = input(\"Would you like cheese? If yes, specify type or type 'no': \")\n",
    "    veggies = input(\"What vegetables would you like (e.g., lettuce, tomato, onion)? \")\n",
    "    condiments = input(\"Any condiments (e.g., mayo, mustard, ketchup)? \")\n",
    "\n",
    "    sandwich_description = f\"Your sandwich on {bread} bread with {protein}\"\n",
    "    \n",
    "    if cheese.lower() != 'no':\n",
    "        sandwich_description += f\", {cheese} cheese\"\n",
    "    \n",
    "    sandwich_description += f\", with {veggies} and {condiments}.\"\n",
    "\n",
    "    sandwich_name = input(\"What would you like to name your sandwich? \")\n",
    "\n",
    "    print(f\"\\nHere is your sandwich, named '{sandwich_name}':\")\n",
    "    print(sandwich_description)\n",
    "\n",
    "make_sandwich()"
   ]
  },
  {
   "cell_type": "markdown",
   "metadata": {},
   "source": [
    "**Popcorn Hack 3.3.4**"
   ]
  },
  {
   "cell_type": "code",
   "execution_count": 4,
   "metadata": {
    "vscode": {
     "languageId": "javascript"
    }
   },
   "outputs": [
    {
     "data": {
      "application/javascript": "\nfunction calculateToThirtyTwo() {\n    const result = (8 * 4) + (16 / 2) - 8;\n    return result;\n}\n\nconst answer = calculateToThirtyTwo();\nconsole.log(`The result is: ${answer}`);\n",
      "text/plain": [
       "<IPython.core.display.Javascript object>"
      ]
     },
     "metadata": {},
     "output_type": "display_data"
    }
   ],
   "source": [
    "%%js\n",
    "\n",
    "function calculateToThirtyTwo() {\n",
    "    const result = (8 * 4) + (16 / 2) - 8;\n",
    "    return result;\n",
    "}\n",
    "\n",
    "const answer = calculateToThirtyTwo();\n",
    "console.log(`The result is: ${answer}`);"
   ]
  },
  {
   "cell_type": "markdown",
   "metadata": {},
   "source": [
    "**3.5.3 Popcorn Hack**"
   ]
  },
  {
   "cell_type": "code",
   "execution_count": 5,
   "metadata": {
    "vscode": {
     "languageId": "javascript"
    }
   },
   "outputs": [
    {
     "name": "stdout",
     "output_type": "stream",
     "text": [
      "The number 5.0 is non-negative.\n"
     ]
    }
   ],
   "source": [
    "def check_number(num):\n",
    "    if num < 0:\n",
    "        print(f\"The number {num} is negative.\")\n",
    "    else:\n",
    "        print(f\"The number {num} is non-negative.\")\n",
    "\n",
    "# Example usage\n",
    "number = float(input(\"Enter a number: \"))\n",
    "check_number(number)"
   ]
  },
  {
   "cell_type": "markdown",
   "metadata": {},
   "source": [
    "**3.5.3 Popcorn Hack**"
   ]
  },
  {
   "cell_type": "code",
   "execution_count": 8,
   "metadata": {},
   "outputs": [
    {
     "name": "stdout",
     "output_type": "stream",
     "text": [
      "The character 's' is not a vowel.\n"
     ]
    }
   ],
   "source": [
    "def check_vowel(char):\n",
    "    if char.lower() in 'aeiou':\n",
    "        print(f\"The character '{char}' is a vowel.\")\n",
    "    else:\n",
    "        print(f\"The character '{char}' is not a vowel.\")\n",
    "\n",
    "character = input(\"Enter a character: \")\n",
    "check_vowel(character)"
   ]
  },
  {
   "cell_type": "markdown",
   "metadata": {},
   "source": [
    "**3.5.4 Popcorn Hack**"
   ]
  },
  {
   "cell_type": "code",
   "execution_count": 9,
   "metadata": {
    "vscode": {
     "languageId": "javascript"
    }
   },
   "outputs": [
    {
     "data": {
      "application/javascript": "\nconst number = parseInt(prompt(\"Enter a number: \"), 10);\n\nconst isEven = (number % 2 === 0);\nconst isOdd = (number % 2 !== 0);\n\nif (isEven) {\n    console.log(`The number ${number} is even.`);\n} else if (isOdd) {\n    console.log(`The number ${number} is odd.`);\n} else {\n    console.log(\"That's not a valid number.\");\n}\n",
      "text/plain": [
       "<IPython.core.display.Javascript object>"
      ]
     },
     "metadata": {},
     "output_type": "display_data"
    }
   ],
   "source": [
    "%%js\n",
    "\n",
    "const number = parseInt(prompt(\"Enter a number: \"), 10);\n",
    "\n",
    "const isEven = (number % 2 === 0);\n",
    "const isOdd = (number % 2 !== 0);\n",
    "\n",
    "if (isEven) {\n",
    "    console.log(`The number ${number} is even.`);\n",
    "} else if (isOdd) {\n",
    "    console.log(`The number ${number} is odd.`);\n",
    "} else {\n",
    "    console.log(\"That's not a valid number.\");\n",
    "}"
   ]
  },
  {
   "cell_type": "markdown",
   "metadata": {},
   "source": [
    "**3.3.3 Homework Hack**"
   ]
  },
  {
   "cell_type": "code",
   "execution_count": 10,
   "metadata": {},
   "outputs": [
    {
     "name": "stdout",
     "output_type": "stream",
     "text": [
      "Arithmetic Mean: 11.142857142857142\n",
      "Median: 11\n",
      "Collatz sequence: [10, 5, 16, 8, 4, 2, 1]\n"
     ]
    }
   ],
   "source": [
    "def compute_statistics():\n",
    "    numbers = [12, 15, 7, 10, 9, 14, 11]\n",
    "\n",
    "    mean = sum(numbers) / len(numbers)\n",
    "\n",
    "    sorted_numbers = sorted(numbers)\n",
    "    length = len(sorted_numbers)\n",
    "\n",
    "    if length % 2 == 0:\n",
    "        median = (sorted_numbers[length // 2 - 1] + sorted_numbers[length // 2]) / 2\n",
    "    else:\n",
    "        median = sorted_numbers[length // 2]\n",
    "\n",
    "    print(f\"Arithmetic Mean: {mean}\")\n",
    "    print(f\"Median: {median}\")\n",
    "\n",
    "\n",
    "def collatz_sequence(a):\n",
    "    sequence = [a]\n",
    "\n",
    "    while a != 1:\n",
    "        if a % 2 == 0:\n",
    "            a //= 2  \n",
    "        else:\n",
    "            a = 3 * a + 1  \n",
    "        sequence.append(a)\n",
    "\n",
    "    print(f\"Collatz sequence: {sequence}\")\n",
    "\n",
    "\n",
    "compute_statistics()\n",
    "\n",
    "initial_value = int(input(\"Enter a positive integer for the Collatz sequence: \"))\n",
    "collatz_sequence(initial_value)"
   ]
  },
  {
   "cell_type": "markdown",
   "metadata": {},
   "source": [
    "**3.3.4 Homework Hack**"
   ]
  },
  {
   "cell_type": "code",
   "execution_count": 11,
   "metadata": {},
   "outputs": [
    {
     "name": "stdout",
     "output_type": "stream",
     "text": [
      "GCD: 10, LCM: 20\n",
      "Prime factors of 30: [2, 3, 5]\n"
     ]
    }
   ],
   "source": [
    "def compute_gcd_lcm(a, b):\n",
    "    def gcd(x, y):\n",
    "        while y:\n",
    "            x, y = y, x % y\n",
    "        return x\n",
    "\n",
    "    gcd_value = gcd(a, b)\n",
    "\n",
    "    lcm_value = abs(a * b) // gcd_value\n",
    "\n",
    "    return {\"GCD\": gcd_value, \"LCM\": lcm_value}\n",
    "\n",
    "\n",
    "def prime_factors(n):\n",
    "    factors = []\n",
    "    while n % 2 == 0:\n",
    "        factors.append(2)\n",
    "        n //= 2\n",
    "\n",
    "    for i in range(3, int(n**0.5) + 1, 2):\n",
    "        while n % i == 0:\n",
    "            factors.append(i)\n",
    "            n //= i\n",
    "\n",
    "    if n > 2:\n",
    "        factors.append(n)\n",
    "\n",
    "    return factors\n",
    "\n",
    "\n",
    "a = int(input(\"Enter the first number (a): \"))\n",
    "b = int(input(\"Enter the second number (b): \"))\n",
    "gcd_lcm_result = compute_gcd_lcm(a, b)\n",
    "print(f\"GCD: {gcd_lcm_result['GCD']}, LCM: {gcd_lcm_result['LCM']}\")\n",
    "\n",
    "n = int(input(\"Enter a positive integer to find its prime factors: \"))\n",
    "print(f\"Prime factors of {n}: {prime_factors(n)}\")"
   ]
  },
  {
   "cell_type": "markdown",
   "metadata": {},
   "source": [
    "**3.5.3 BONUS Popcorn Hack**"
   ]
  },
  {
   "cell_type": "code",
   "execution_count": 12,
   "metadata": {},
   "outputs": [
    {
     "name": "stdout",
     "output_type": "stream",
     "text": [
      "The student did not pass both subjects.\n"
     ]
    }
   ],
   "source": [
    "def check_scores(score1, score2):\n",
    "    if score1 >= 70 and score2 >= 70:\n",
    "        print(\"The student passed both subjects.\")\n",
    "    else:\n",
    "        print(\"The student did not pass both subjects.\")\n",
    "\n",
    "score1 = float(input(\"Enter the score for subject 1: \"))\n",
    "score2 = float(input(\"Enter the score for subject 2: \"))\n",
    "check_scores(score1, score2)"
   ]
  },
  {
   "cell_type": "markdown",
   "metadata": {},
   "source": [
    "**3.5.3 Homework Hack**"
   ]
  },
  {
   "cell_type": "code",
   "execution_count": 13,
   "metadata": {},
   "outputs": [
    {
     "name": "stdout",
     "output_type": "stream",
     "text": [
      "A\tB\tA AND B\tNOT A OR NOT B\n",
      "-----------------------------------\n",
      "True\tTrue\tTrue\t\tFalse\n",
      "True\tFalse\tFalse\t\tTrue\n",
      "False\tTrue\tFalse\t\tTrue\n",
      "False\tFalse\tFalse\t\tTrue\n"
     ]
    }
   ],
   "source": [
    "def truth_table():\n",
    "    print(\"A\\tB\\tA AND B\\tNOT A OR NOT B\")\n",
    "    print(\"-----------------------------------\")\n",
    "    for A in [True, False]:\n",
    "        for B in [True, False]:\n",
    "            and_result = A and B\n",
    "            de_morgan_result = not A or not B\n",
    "            print(f\"{A}\\t{B}\\t{and_result}\\t\\t{de_morgan_result}\")\n",
    "\n",
    "truth_table()"
   ]
  },
  {
   "cell_type": "markdown",
   "metadata": {},
   "source": [
    "**3.5.4 Homework Hack**"
   ]
  },
  {
   "cell_type": "code",
   "execution_count": 15,
   "metadata": {},
   "outputs": [
    {
     "name": "stdout",
     "output_type": "stream",
     "text": [
      "Your password does not meet the requirements needed :( :\n",
      "- At least 10 characters long.\n",
      "- Includes uppercase and lowercase letters.\n",
      "- Contains at least 1 number.\n",
      "- Must not contain any spaces.\n"
     ]
    }
   ],
   "source": [
    "import re\n",
    "\n",
    "def is_valid_password(password):\n",
    "    has_min_length = len(password) >= 10\n",
    "    has_uppercase = re.search(r'[A-Z]', password) is not None\n",
    "    has_lowercase = re.search(r'[a-z]', password) is not None\n",
    "    has_number = re.search(r'[0-9]', password) is not None\n",
    "    has_no_spaces = ' ' not in password\n",
    "\n",
    "    valid = has_min_length and has_uppercase and has_lowercase and has_number and has_no_spaces\n",
    "\n",
    "    return valid\n",
    "\n",
    "def password_creator():\n",
    "    password = input(\"Create a password: \")\n",
    "    \n",
    "    if is_valid_password(password):\n",
    "        print(\"Your password is valid!\")\n",
    "    else:\n",
    "        print(\"Your password does not meet the requirements needed :( :\")\n",
    "        print(\"- At least 10 characters long.\")\n",
    "        print(\"- Includes uppercase and lowercase letters.\")\n",
    "        print(\"- Contains at least 1 number.\")\n",
    "        print(\"- Must not contain any spaces.\")\n",
    "\n",
    "password_creator()"
   ]
  },
  {
   "cell_type": "code",
   "execution_count": null,
   "metadata": {},
   "outputs": [],
   "source": []
  }
 ],
 "metadata": {
  "kernelspec": {
   "display_name": "venv",
   "language": "python",
   "name": "python3"
  },
  "language_info": {
   "codemirror_mode": {
    "name": "ipython",
    "version": 3
   },
   "file_extension": ".py",
   "mimetype": "text/x-python",
   "name": "python",
   "nbconvert_exporter": "python",
   "pygments_lexer": "ipython3",
   "version": "3.12.3"
  }
 },
 "nbformat": 4,
 "nbformat_minor": 2
}
