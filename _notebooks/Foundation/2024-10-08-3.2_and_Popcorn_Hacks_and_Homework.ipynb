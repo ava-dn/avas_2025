{
 "cells": [
  {
   "cell_type": "markdown",
   "metadata": {},
   "source": [
    "**Popcorn Hack #1**"
   ]
  },
  {
   "cell_type": "code",
   "execution_count": 4,
   "metadata": {},
   "outputs": [
    {
     "name": "stdout",
     "output_type": "stream",
     "text": [
      "{1, 3, 4, 5, 6, 7, 8, 9}\n",
      "set()\n"
     ]
    }
   ],
   "source": [
    "avas_set = {1, 2, 3, 4, 5}\n",
    "\n",
    "avas_set.add(6)\n",
    "\n",
    "avas_set.remove(2)\n",
    "\n",
    "avas_set = avas_set.union({7, 8, 9})\n",
    "print(avas_set)\n",
    "\n",
    "avas_set.clear()\n",
    "\n",
    "print(avas_set)\n"
   ]
  },
  {
   "cell_type": "markdown",
   "metadata": {},
   "source": [
    "**Bonus for Popcorn Hack #1**"
   ]
  },
  {
   "cell_type": "code",
   "execution_count": 3,
   "metadata": {},
   "outputs": [
    {
     "name": "stdout",
     "output_type": "stream",
     "text": [
      "The length of the set is: 4\n"
     ]
    }
   ],
   "source": [
    "my_set = {1, 2, 2, 3, 3, 4}\n",
    "\n",
    "set_length = len(my_set)\n",
    "\n",
    "print(f\"The length of the set is: {set_length}\")"
   ]
  },
  {
   "cell_type": "markdown",
   "metadata": {},
   "source": [
    "**Popcorn Hack #2**"
   ]
  },
  {
   "cell_type": "code",
   "execution_count": 5,
   "metadata": {},
   "outputs": [
    {
     "name": "stdout",
     "output_type": "stream",
     "text": [
      "String Length: 26\n",
      "Extracted Word: Python\n",
      "Uppercase String: LEARNING PYTHON IS NOT FUN\n",
      "Replaced String: Learning Python is not good\n"
     ]
    }
   ],
   "source": [
    "avas_string = \"Learning Python is not fun\"\n",
    "\n",
    "string_length = len(avas_string)\n",
    "\n",
    "extracted_word = avas_string[9:15]  \n",
    "\n",
    "uppercase_string = avas_string.upper()\n",
    "\n",
    "replaced_string = avas_string.replace(\"fun\", \"good\")\n",
    "\n",
    "print(\"String Length:\", string_length)\n",
    "print(\"Extracted Word:\", extracted_word)\n",
    "print(\"Uppercase String:\", uppercase_string)\n",
    "print(\"Replaced String:\", replaced_string)\n"
   ]
  },
  {
   "cell_type": "markdown",
   "metadata": {},
   "source": [
    "**Popcorn Hack #3**"
   ]
  },
  {
   "cell_type": "code",
   "execution_count": 6,
   "metadata": {},
   "outputs": [
    {
     "name": "stdout",
     "output_type": "stream",
     "text": [
      "Third Element: 7\n",
      "Modified List: [3, 6, 7, 11, 13]\n"
     ]
    }
   ],
   "source": [
    "avas_list = [3, 5, 7, 9, 11]\n",
    "\n",
    "third_element = avas_list[2]  \n",
    "\n",
    "avas_list[1] = 6  \n",
    "\n",
    "avas_list.append(13)  \n",
    "\n",
    "avas_list.remove(9)  \n",
    "\n",
    "print(\"Third Element:\", third_element)\n",
    "print(\"Modified List:\", avas_list)\n"
   ]
  },
  {
   "cell_type": "markdown",
   "metadata": {},
   "source": [
    "**Popcorn Hack #4**"
   ]
  },
  {
   "cell_type": "code",
   "execution_count": 7,
   "metadata": {},
   "outputs": [
    {
     "name": "stdout",
     "output_type": "stream",
     "text": [
      "Personal Info Dictionary: {'name': 'Lemon Lime', 'email': 'Lemon@gmail.com', 'phone number': '123-456-7890'}\n",
      "My Name is: Lemon Lime\n",
      "Overall Length of the Dictionary: 3\n",
      "Overall Type of the Dictionary: <class 'dict'>\n"
     ]
    }
   ],
   "source": [
    "personal_info = {\n",
    "    \"name\": \"Lemon Lime\",\n",
    "    \"email\": \"Lemon@gmail.com\",\n",
    "    \"phone number\": \"123-456-7890\"\n",
    "}\n",
    "\n",
    "print(\"Personal Info Dictionary:\", personal_info)\n",
    "\n",
    "print(\"My Name is:\", personal_info[\"name\"])\n",
    "\n",
    "print(\"Overall Length of the Dictionary:\", len(personal_info))\n",
    "\n",
    "print(\"Overall Type of the Dictionary:\", type(personal_info))\n"
   ]
  },
  {
   "cell_type": "markdown",
   "metadata": {},
   "source": [
    "**Bonus for Popcorn Hack #4**"
   ]
  },
  {
   "cell_type": "code",
   "execution_count": null,
   "metadata": {},
   "outputs": [],
   "source": [
    "applicant_info = {\n",
    "    \"name\": \"Alice\",\n",
    "    \"age\": 30,\n",
    "    \"experiences\": \"Software Developer\"\n",
    "}\n",
    "\n",
    "contact_info = {\n",
    "    \"name\": \"Alice\",\n",
    "    \"email\": \"alice@example.com\",\n",
    "    \"phone number\": \"123-456-7890\"\n",
    "}\n",
    "\n",
    "print(\"Applicant Information:\")\n",
    "print(f\"Name: {applicant_info['name']}\")\n",
    "print(f\"Age: {applicant_info['age']}\")\n",
    "print(f\"Experiences: {applicant_info['experiences']}\")\n",
    "\n",
    "print(\"\\nContact Information:\")\n",
    "print(f\"Name: {contact_info['name']}\")\n",
    "print(f\"Email: {contact_info['email']}\")\n",
    "print(f\"Phone Number: {contact_info['phone number']}\")"
   ]
  },
  {
   "cell_type": "markdown",
   "metadata": {},
   "source": [
    "**Popcorn Hack #5 (Javascript)**"
   ]
  },
  {
   "cell_type": "code",
   "execution_count": 8,
   "metadata": {
    "vscode": {
     "languageId": "javascript"
    }
   },
   "outputs": [
    {
     "data": {
      "application/javascript": "\nconst Set1 = new Set([1, 2, 3]);\n\nconst Set2 = new Set([4, 5, 6]);\n\nconsole.log(\"Set1:\", Set1);\nconsole.log(\"Set2:\", Set2);\n\nSet1.add(7);\n\nSet1.delete(1);\n\nconst unionSet = new Set([...Set1, ...Set2]);\nconsole.log(\"Union of Set1 and Set2:\", unionSet);\n",
      "text/plain": [
       "<IPython.core.display.Javascript object>"
      ]
     },
     "metadata": {},
     "output_type": "display_data"
    }
   ],
   "source": [
    "%%js\n",
    "\n",
    "const Set1 = new Set([1, 2, 3]);\n",
    "\n",
    "const Set2 = new Set([4, 5, 6]);\n",
    "\n",
    "console.log(\"Set1:\", Set1);\n",
    "console.log(\"Set2:\", Set2);\n",
    "\n",
    "Set1.add(7);\n",
    "\n",
    "Set1.delete(1);\n",
    "\n",
    "const unionSet = new Set([...Set1, ...Set2]);\n",
    "console.log(\"Union of Set1 and Set2:\", unionSet);"
   ]
  },
  {
   "cell_type": "markdown",
   "metadata": {},
   "source": [
    "**Popcorn Hack #6 (Javascript)**"
   ]
  },
  {
   "cell_type": "code",
   "execution_count": 9,
   "metadata": {
    "vscode": {
     "languageId": "javascript"
    }
   },
   "outputs": [
    {
     "data": {
      "application/javascript": "\nconst application = {\n    name: \"Jane Smith\",\n    age: 30,\n    experiences: [\"Web Developer\", \"Graphic Designer\", \"Project Manager\"],\n    money: 1500\n};\n\nconsole.log(\"Application Dictionary:\", application);\n\nconsole.log(\"Money:\", application.money);\n",
      "text/plain": [
       "<IPython.core.display.Javascript object>"
      ]
     },
     "metadata": {},
     "output_type": "display_data"
    }
   ],
   "source": [
    "%%js\n",
    "\n",
    "const application = {\n",
    "    name: \"Jane Smith\",\n",
    "    age: 30,\n",
    "    experiences: [\"Web Developer\", \"Graphic Designer\", \"Project Manager\"],\n",
    "    money: 1500\n",
    "};\n",
    "\n",
    "console.log(\"Application Dictionary:\", application);\n",
    "\n",
    "console.log(\"Money:\", application.money);"
   ]
  },
  {
   "cell_type": "markdown",
   "metadata": {
    "vscode": {
     "languageId": "javascript"
    }
   },
   "source": [
    "**Homework Hack #1**"
   ]
  },
  {
   "cell_type": "code",
   "execution_count": 1,
   "metadata": {},
   "outputs": [
    {
     "name": "stdout",
     "output_type": "stream",
     "text": [
      "\n",
      "Applicant Information Logged:\n",
      "name: ava\n",
      "age: 16\n",
      "experiences: swimming\n"
     ]
    }
   ],
   "source": [
    "def get_applicant_info():\n",
    "    applicant_info = {}\n",
    "\n",
    "    name = input(\"Please enter your name: \")\n",
    "    applicant_info[\"name\"] = name\n",
    "\n",
    "    age = input(\"Please enter your age: \")\n",
    "    applicant_info[\"age\"] = age\n",
    "\n",
    "    experiences = input(\"Please describe your experiences: \")\n",
    "    applicant_info[\"experiences\"] = experiences\n",
    "\n",
    "    print(\"\\nApplicant Information Logged:\")\n",
    "    for key, value in applicant_info.items():\n",
    "        print(f\"{key}: {value}\")\n",
    "\n",
    "    return applicant_info\n",
    "\n",
    "applicant_data = get_applicant_info()\n"
   ]
  },
  {
   "cell_type": "markdown",
   "metadata": {},
   "source": [
    "**Homework Hack #2**"
   ]
  },
  {
   "cell_type": "code",
   "execution_count": 2,
   "metadata": {
    "vscode": {
     "languageId": "javascript"
    }
   },
   "outputs": [
    {
     "data": {
      "application/javascript": "\nfunction getApplicantInfo() {\n    const applicantInfo = {};\n\n    applicantInfo.name = prompt(\"Please enter your name:\");\n\n    applicantInfo.age = prompt(\"Please enter your age:\");\n\n    applicantInfo.experiences = prompt(\"Please describe your experiences:\");\n\n    console.log(\"Applicant Information Logged:\");\n    console.log(`Name: ${applicantInfo.name}`);\n    console.log(`Age: ${applicantInfo.age}`);\n    console.log(`Experiences: ${applicantInfo.experiences}`);\n\n    return applicantInfo;\n}\n\ngetApplicantInfo();\n",
      "text/plain": [
       "<IPython.core.display.Javascript object>"
      ]
     },
     "metadata": {},
     "output_type": "display_data"
    }
   ],
   "source": [
    "%%js\n",
    "\n",
    "function getApplicantInfo() {\n",
    "    const applicantInfo = {};\n",
    "\n",
    "    applicantInfo.name = prompt(\"Please enter your name:\");\n",
    "\n",
    "    applicantInfo.age = prompt(\"Please enter your age:\");\n",
    "\n",
    "    applicantInfo.experiences = prompt(\"Please describe your experiences:\");\n",
    "\n",
    "    console.log(\"Applicant Information Logged:\");\n",
    "    console.log(`Name: ${applicantInfo.name}`);\n",
    "    console.log(`Age: ${applicantInfo.age}`);\n",
    "    console.log(`Experiences: ${applicantInfo.experiences}`);\n",
    "\n",
    "    return applicantInfo;\n",
    "}\n",
    "\n",
    "getApplicantInfo();"
   ]
  }
 ],
 "metadata": {
  "kernelspec": {
   "display_name": "venv",
   "language": "python",
   "name": "python3"
  },
  "language_info": {
   "codemirror_mode": {
    "name": "ipython",
    "version": 3
   },
   "file_extension": ".py",
   "mimetype": "text/x-python",
   "name": "python",
   "nbconvert_exporter": "python",
   "pygments_lexer": "ipython3",
   "version": "3.12.3"
  }
 },
 "nbformat": 4,
 "nbformat_minor": 2
}
