{
 "cells": [
  {
   "cell_type": "markdown",
   "metadata": {
    "vscode": {
     "languageId": "plaintext"
    }
   },
   "source": [
    "Popcorn Hack #1"
   ]
  },
  {
   "cell_type": "code",
   "execution_count": 1,
   "metadata": {},
   "outputs": [
    {
     "name": "stdout",
     "output_type": "stream",
     "text": [
      "hello\n",
      "hello\n",
      "hello\n",
      "hello\n",
      "hello\n"
     ]
    }
   ],
   "source": [
    "count = 0\n",
    "while count < 5:\n",
    "    print(\"hello\")\n",
    "    count += 1"
   ]
  },
  {
   "cell_type": "markdown",
   "metadata": {},
   "source": [
    "Popcorn Hack #2"
   ]
  },
  {
   "cell_type": "code",
   "execution_count": 5,
   "metadata": {},
   "outputs": [
    {
     "name": "stdout",
     "output_type": "stream",
     "text": [
      "ava\n",
      "  rose\n",
      "  rose\n",
      "  shalon\n",
      "  shalon\n",
      "  shalon\n",
      "ava\n",
      "  rose\n",
      "  rose\n",
      "  shalon\n",
      "  shalon\n",
      "  shalon\n",
      "ava\n",
      "  rose\n",
      "  rose\n",
      "  shalon\n",
      "  shalon\n",
      "  shalon\n",
      "ava\n",
      "  rose\n",
      "  rose\n",
      "  shalon\n",
      "  shalon\n",
      "  shalon\n"
     ]
    }
   ],
   "source": [
    "outer_counter = 0\n",
    "inner_counter = 0\n",
    "\n",
    "while outer_counter < 4:\n",
    "    print(\"ava\")\n",
    "    \n",
    "    inner_counter = 0\n",
    "    while inner_counter < 2:\n",
    "        print(\"  rose\")\n",
    "        inner_counter += 1\n",
    "\n",
    "    inner_counter =0\n",
    "    while inner_counter < 3:\n",
    "        print(\"  shalon\")\n",
    "        inner_counter += 1\n",
    "    \n",
    "    outer_counter += 1"
   ]
  },
  {
   "cell_type": "markdown",
   "metadata": {},
   "source": [
    "Popcorn Hack #3"
   ]
  },
  {
   "cell_type": "code",
   "execution_count": 6,
   "metadata": {},
   "outputs": [
    {
     "name": "stdout",
     "output_type": "stream",
     "text": [
      "a\n",
      "v\n",
      "a\n"
     ]
    }
   ],
   "source": [
    "name = \"ava\"\n",
    "\n",
    "for letter in name:\n",
    "    print(letter)"
   ]
  },
  {
   "cell_type": "markdown",
   "metadata": {},
   "source": [
    "Popcorn Hack #4"
   ]
  },
  {
   "cell_type": "code",
   "execution_count": 8,
   "metadata": {},
   "outputs": [
    {
     "name": "stdout",
     "output_type": "stream",
     "text": [
      "dict_items([('lemon', 'yellow'), ('strawberry', 'red'), ('watermelon', 'pink'), ('avocado', 'green')])\n",
      "lemon is yellow\n",
      "strawberry is red\n",
      "watermelon is pink\n",
      "avocado is green\n"
     ]
    }
   ],
   "source": [
    "fruit_info = {\n",
    "    \"lemon\": \"yellow\",\n",
    "    \"strawberry\": \"red\",\n",
    "    \"watermelon\": \"pink\",\n",
    "    \"avocado\": \"green\"\n",
    "}\n",
    "\n",
    "print(fruit_info.items())\n",
    "\n",
    "for fruit, color in fruit_info.items():\n",
    "    print(f\"{fruit} is {color}\")"
   ]
  },
  {
   "cell_type": "markdown",
   "metadata": {},
   "source": [
    "Hack #1"
   ]
  },
  {
   "cell_type": "code",
   "execution_count": 1,
   "metadata": {},
   "outputs": [
    {
     "name": "stdout",
     "output_type": "stream",
     "text": [
      "Password is correct.\n"
     ]
    }
   ],
   "source": [
    "correct_password = \"Password123\"\n",
    "\n",
    "while True:\n",
    "    user_input = input(\"Please enter your password: \")\n",
    "\n",
    "    if user_input == correct_password:\n",
    "        print(\"Password is correct.\")\n",
    "        break  \n",
    "    else:\n",
    "        print(\"Incorrect password. Please try again.\")"
   ]
  },
  {
   "cell_type": "markdown",
   "metadata": {},
   "source": [
    "Hack #2"
   ]
  },
  {
   "cell_type": "code",
   "execution_count": 2,
   "metadata": {},
   "outputs": [
    {
     "name": "stdout",
     "output_type": "stream",
     "text": [
      "a\n",
      "v\n",
      "a\n"
     ]
    }
   ],
   "source": [
    "user_name = input(\"Please enter your name: \")\n",
    "\n",
    "for letter in user_name:\n",
    "    print(letter)\n"
   ]
  },
  {
   "cell_type": "markdown",
   "metadata": {},
   "source": [
    "Hack #3"
   ]
  },
  {
   "cell_type": "code",
   "execution_count": 3,
   "metadata": {},
   "outputs": [
    {
     "name": "stdout",
     "output_type": "stream",
     "text": [
      "apple\n",
      "banana\n",
      "cherry\n",
      "orange\n",
      "watermelon\n",
      "lemon\n",
      "kiwi\n"
     ]
    }
   ],
   "source": [
    "fruits = [\n",
    "    \"apple\",\n",
    "    \"banana\",\n",
    "    \"cherry\",\n",
    "    \"orange\",\n",
    "    \"watermelon\",\n",
    "    \"lemon\",\n",
    "    \"kiwi\"\n",
    "]\n",
    "\n",
    "for fruit in fruits:\n",
    "    print(fruit)\n"
   ]
  }
 ],
 "metadata": {
  "kernelspec": {
   "display_name": "venv",
   "language": "python",
   "name": "python3"
  },
  "language_info": {
   "codemirror_mode": {
    "name": "ipython",
    "version": 3
   },
   "file_extension": ".py",
   "mimetype": "text/x-python",
   "name": "python",
   "nbconvert_exporter": "python",
   "pygments_lexer": "ipython3",
   "version": "3.12.3"
  }
 },
 "nbformat": 4,
 "nbformat_minor": 2
}
