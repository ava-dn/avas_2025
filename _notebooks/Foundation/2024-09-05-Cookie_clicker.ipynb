{
 "cells": [
  {
   "cell_type": "markdown",
   "metadata": {
    "vscode": {
     "languageId": "plaintext"
    }
   },
   "source": [
    "# Cookie Clicker Game\n",
    "\n",
    "This is a basic implementation of a Cookie Clicker game using HTML and JavaScript.\n",
    "\n",
    "## HTML\n",
    "\n",
    "```html\n",
    "<!DOCTYPE html>\n",
    "<html lang=\"en\">\n",
    "<head>\n",
    "    <meta charset=\"UTF-8\">\n",
    "    <meta name=\"viewport\" content=\"width=device-width, initial-scale=1.0\">\n",
    "    <title>Cookie Clicker</title>\n",
    "    <style>\n",
    "        body { text-align: center; font-family: Arial, sans-serif; }\n",
    "        #cookie { width: 200px; cursor: pointer; }\n",
    "    </style>\n",
    "</head>\n",
    "<body>\n",
    "    <h1>Cookie Clicker</h1>\n",
    "    <img id=\"cookie\" src=\"https://upload.wikimedia.org/wikipedia/commons/d/d5/Chocolate_chip_cookie.png\" alt=\"Cookie\" />\n",
    "    <h2>Cookies: <span id=\"cookieCount\">0</span></h2>\n",
    "    <script src=\"script.js\"></script>\n",
    "</body>\n",
    "</html>\n"
   ]
  }
 ],
 "metadata": {
  "kernelspec": {
   "display_name": "venv",
   "language": "python",
   "name": "python3"
  },
  "language_info": {
   "codemirror_mode": {
    "name": "ipython",
    "version": 3
   },
   "file_extension": ".py",
   "mimetype": "text/x-python",
   "name": "python",
   "nbconvert_exporter": "python",
   "pygments_lexer": "ipython3",
   "version": "3.12.3"
  }
 },
 "nbformat": 4,
 "nbformat_minor": 2
}
