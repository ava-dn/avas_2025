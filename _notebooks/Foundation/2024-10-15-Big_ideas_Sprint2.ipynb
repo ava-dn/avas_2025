{
 "cells": [
  {
   "cell_type": "markdown",
   "metadata": {},
   "source": [
    " "
   ]
  },
  {
   "cell_type": "markdown",
   "metadata": {},
   "source": [
    "**BIG IDEAS FOR SPRINT 2**"
   ]
  },
  {
   "cell_type": "markdown",
   "metadata": {
    "vscode": {
     "languageId": "plaintext"
    }
   },
   "source": [
    "**3.1** \n",
    "- Variables and data types: a named storage location in memory that holds a value, and a data type defines the kind of value a variable can hold and what \n",
    "\n",
    "operations can be performed on it\n",
    "\n",
    "**3.2** \n",
    "- In depth explanations of integers, floats, strings, lists, tuplets, dictionary\n",
    "\n",
    "**3.3**\n",
    "- Mathematical Expressions: combinations of numbers, variables, and operators that produce a result\n",
    "\n",
    "**3.4**\n",
    "- Strings and Functions: a sequence of characters enclosed in quotes, and  a reusable block of code that performs a specific task which take inputs called \n",
    "\n",
    "parameters\n",
    "\n",
    "**3.5**\n",
    "- Booleans: a binary data type that can only have two values\n",
    "\n",
    "**3.8**\n",
    "- Loops: constructs that allow you to execute a block of code repeatedly based on a condition \n",
    "\n",
    "**3.10**\n",
    "\n",
    "- List, dictionary, and Array Multiplication\n",
    "\n",
    "My group tought lessons 3.6 and 3.7 which was on conditionals and nested conditionals. Me, Risha, and Vibha's lesson was memorable because we showed how to \n",
    "\n",
    "do this in both Javascript and Python. What made our lesson unique was that we included a video as well as a kahoot which made our lesson very interactive \n",
    "\n",
    "and kept everyone engaged throughout. Our homework grading covered topics that collegeboard will be grading the students on which will align with the \n",
    "\n",
    "expectations they face on their exam. Our homework helped students understand conditionals and nested conditionals better as well as preparing  because it \n",
    "\n",
    "provided practical excersises that reinforces the topics taught in class. \n",
    "\n",
    "**Personal Growth**\n",
    "\n",
    "This Sprint 2 helped me learn many different coding concepts that can be used for so many different things. I completed many of the bonus hacks to challenge \n",
    "\n",
    "myself as well as to get some extra practice in to reinforce these concepts. Something I really did well on was the dictionaries as I understood that code \n",
    "\n",
    "especially well and personalised it."
   ]
  }
 ],
 "metadata": {
  "language_info": {
   "name": "python"
  }
 },
 "nbformat": 4,
 "nbformat_minor": 2
}
