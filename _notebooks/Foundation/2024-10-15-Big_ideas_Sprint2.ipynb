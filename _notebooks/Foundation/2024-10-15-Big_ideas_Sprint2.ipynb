{
 "cells": [
  {
   "cell_type": "markdown",
   "metadata": {},
   "source": [
    " "
   ]
  },
  {
   "cell_type": "markdown",
   "metadata": {},
   "source": [
    "**BIG IDEAS FOR SPRINT 2**"
   ]
  },
  {
   "cell_type": "markdown",
   "metadata": {
    "vscode": {
     "languageId": "plaintext"
    }
   },
   "source": [
    "**3.1** \n",
    "- Variables and data types: a named storage location in memory that holds a\n",
    "\n",
    " value, and a data type defines the kind of value a variable can hold and what \n",
    "\n",
    "operations can be performed on it\n",
    "\n",
    "**3.2** \n",
    "- In depth explanations of integers, floats, strings, lists, tuplets, dictionary\n",
    "\n",
    "**3.3**\n",
    "- Mathematical Expressions: combinations of numbers, variables, and operators that produce a result\n",
    "\n",
    "**3.4**\n",
    "- Strings and Functions: a sequence of characters enclosed in quotes, and  a \n",
    "\n",
    "reusable block of code that performs a specific task which take inputs called \n",
    "\n",
    "parameters\n",
    "\n",
    "**3.5**\n",
    "- Booleans: a binary data type that can only have two values\n",
    "\n",
    "**3.8**\n",
    "- Loops: constructs that allow you to execute a block of code repeatedly based on a condition \n",
    "\n",
    "**3.10**\n",
    "\n",
    "- List, dictionary, and Array Multiplication\n",
    "\n",
    "My group tought lessons 3.6 and 3.7 which was on conditionals and nested \n",
    "\n",
    "conditionals. Me, Risha, and Vibha's lesson was memorable because we \n",
    "\n",
    "showed how to do this in both Javascript and Python. What made our lesson \n",
    "\n",
    "unique was that we included a video as well as a kahoot which made our \n",
    "\n",
    "lesson very interactive and kept everyone engaged throughout. Our homework \n",
    "\n",
    "grading covered topics that collegeboard will be grading the students on \n",
    "\n",
    "which will align with the expectations they face on their exam. Our homework \n",
    "\n",
    "helped students understand conditionals and nested conditionals \n",
    "\n",
    "better as well as preparing  because it provided practical excersises \n",
    "\n",
    "that reinforces the topics taught in class. \n",
    "\n",
    "**Personal Growth**\n",
    "\n",
    "This Sprint 2 helped me learn many different coding concepts that can be used for \n",
    "\n",
    "so many different things. I completed many of the bonus hacks to challenge \n",
    "\n",
    "myself as well as to get some extra practice in to reinforce these concepts.\n",
    "\n",
    " Something I really did well on was the dictionaries as I understood that code \n",
    "\n",
    "especially well and personalised it."
   ]
  }
 ],
 "metadata": {
  "language_info": {
   "name": "python"
  }
 },
 "nbformat": 4,
 "nbformat_minor": 2
}
