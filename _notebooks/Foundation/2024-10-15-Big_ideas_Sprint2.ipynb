{
 "cells": [
  {
   "cell_type": "markdown",
   "metadata": {},
   "source": [
    " "
   ]
  },
  {
   "cell_type": "markdown",
   "metadata": {},
   "source": [
    "**BIG IDEAS FOR SPRINT 2**"
   ]
  },
  {
   "cell_type": "markdown",
   "metadata": {
    "vscode": {
     "languageId": "plaintext"
    }
   },
   "source": [
    "**3.1** \n",
    "- Variables and data types: a named storage location in memory that holds a\n",
    "\n",
    " value, and a data type defines the kind of value a variable can hold and what \n",
    "\n",
    "operations can be performed on it\n",
    "\n",
    "**3.2** \n",
    "- In depth explanations of integers, floats, strings, lists, tuplets, dictionary\n",
    "\n",
    "**3.3**\n",
    "- Mathematical Expressions: combinations of numbers, variables, and operators that produce a result\n",
    "\n",
    "**3.4**\n",
    "- Strings and Functions: a sequence of characters enclosed in quotes, and  a \n",
    "\n",
    "reusable block of code that performs a specific task which take inputs called \n",
    "\n",
    "parameters\n",
    "\n",
    "**3.5**\n",
    "- Booleans: a binary data type that can only have two values\n",
    "\n",
    "**3.8**\n",
    "- Loops: constructs that allow you to execute a block of code repeatedly based on a condition \n",
    "\n",
    "**3.10**\n",
    "\n",
    "- List, dictionary, and Array Multiplication\n",
    "\n",
    "My group tought lessons 3.6 and 3.7 which was on conditionals and nested \n",
    "\n",
    "conditionals. Our homework \n",
    "\n",
    "helped students understand conditionals and nested conditionals \n",
    "\n",
    "better as well as preparing them for the collegeboard exam \n",
    "\n",
    "providing practical excersises that reinforced the topics taught in class. Me, Risha, and Vibha's lesson was memorable because we \n",
    "\n",
    "showed how to do this in both Javascript and Python. What made our lesson unique was that we included a video as well as a kahoot \n",
    "\n",
    "which made our lesson very interactive and kept everyone engaged throughout. \n",
    "\n",
    "Our homework grading covered topics that collegeboard will be grading the students on \n",
    "\n",
    "which will align with the expectations they face on their exam.  I watched videos as well\n",
    "\n",
    "as asking questions in order to learn about conditionals and plan a lesson on what \n",
    "\n",
    "these are. Teaching this made me understand the concept of conditionals much better. \n",
    "\n",
    "**Personal Growth**\n",
    "\n",
    "This Sprint 2 has greatly helped my growth as I have learned many \n",
    "\n",
    "different coding concepts that I could never do before as this is my first ever \n",
    "\n",
    "coding class. Something I really did well on was the dictionaries \n",
    " \n",
    " as I understood that code especially well and personalised it.\n",
    " \n",
    "Many of these concepts that I practiced will be on the collegeboard exam \n",
    "\n",
    "coming this May so I have many lessons to look\n",
    "\n",
    "back to as well as popcorn hacks that I can redo to actually practice the \n",
    "\n",
    "concepts which will be very helpful. \n",
    "\n",
    "I really enjoyed 3.1 and 3.4's lesson as the group was very helpful in\n",
    "\n",
    "answering questions and the group explained everything very well so it was easy to understand. \n",
    "\n",
    " I completed many of the bonus hacks to challenge myself as well as to get some extra practice in to reinforce these concepts. "
   ]
  }
 ],
 "metadata": {
  "language_info": {
   "name": "python"
  }
 },
 "nbformat": 4,
 "nbformat_minor": 2
}
