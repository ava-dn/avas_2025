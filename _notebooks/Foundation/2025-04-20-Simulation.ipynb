{
 "cells": [
  {
   "cell_type": "markdown",
   "id": "566dfc13",
   "metadata": {},
   "source": [
    "---\n",
    "layout: Foundation\n",
    "title: Simulation\n",
    "permalink: /simulation/\n",
    "description: Simulation Games and Random Algorithms P1 HW\n",
    "comments: true\n",
    "sticky_rank: 1\n",
    "---"
   ]
  },
  {
   "cell_type": "markdown",
   "id": "f0ebc82a",
   "metadata": {},
   "source": [
    "**Random Algorithms**"
   ]
  },
  {
   "cell_type": "markdown",
   "id": "74d58918",
   "metadata": {},
   "source": [
    "### Popcorn Hack #1"
   ]
  },
  {
   "cell_type": "markdown",
   "id": "027e85fc",
   "metadata": {},
   "source": [
    "A random algorithm is code that picks stuff randomly, like rolling dice. It doesn’t always do the same thing every time.\n",
    "\n",
    "We use it in real life for games, making things feel real (like weather or traffic), or testing how stuff works.\n",
    "\n",
    "College Board might ask what the code does, what the chances are, or why using random stuff can help."
   ]
  },
  {
   "cell_type": "markdown",
   "id": "d097d474",
   "metadata": {},
   "source": [
    "### Popcorn Hack #2"
   ]
  },
  {
   "cell_type": "code",
   "execution_count": 1,
   "id": "f7a9e338",
   "metadata": {},
   "outputs": [
    {
     "name": "stdout",
     "output_type": "stream",
     "text": [
      "Today’s random activity: Dance like nobody’s watching\n"
     ]
    }
   ],
   "source": [
    "import random\n",
    "\n",
    "activities = [\n",
    "    'Paint something weird',\n",
    "    'Dance like nobody’s watching',\n",
    "    'Eat ice cream for breakfast',\n",
    "    'Make a silly TikTok',\n",
    "    'Text your BFF a random emoji',\n",
    "    'Take a power nap',\n",
    "    'Make up a superhero name for yourself',\n",
    "    'Google “fun facts” and learn 3',\n",
    "    'Do absolutely nothing for 5 minutes',\n",
    "    'Try to draw with your non-dominant hand'\n",
    "]\n",
    "\n",
    "random_activity = random.choice(activities)\n",
    "\n",
    "print(f\"Today’s random activity: {random_activity}\")\n"
   ]
  },
  {
   "cell_type": "markdown",
   "id": "9dfa0928",
   "metadata": {},
   "source": [
    "### Popcorn Hack #3"
   ]
  },
  {
   "cell_type": "code",
   "execution_count": 2,
   "id": "881346ca",
   "metadata": {},
   "outputs": [
    {
     "name": "stdout",
     "output_type": "stream",
     "text": [
      "Jake will be in charge of the photo wall!\n",
      "Luna will be in charge of the food table!\n",
      "Maya will be in charge of the party games!\n",
      "Leo will be in charge of the DJ booth!\n",
      "Sophie will be in charge of the welcome area!\n"
     ]
    }
   ],
   "source": [
    "import random\n",
    "\n",
    "hosts = ['Jake', 'Luna', 'Maya', 'Leo', 'Sophie']\n",
    "\n",
    "activities = ['DJ booth', 'food table', 'photo wall', 'party games', 'welcome area']\n",
    "\n",
    "random.shuffle(activities)\n",
    "\n",
    "for i in range(len(hosts)):\n",
    "    print(f\"{hosts[i]} will be in charge of the {activities[i]}!\")\n"
   ]
  },
  {
   "cell_type": "markdown",
   "id": "58480860",
   "metadata": {},
   "source": [
    "**Simulations**"
   ]
  },
  {
   "cell_type": "markdown",
   "id": "779f6c10",
   "metadata": {},
   "source": [
    "### Popcorn Hack #1"
   ]
  },
  {
   "cell_type": "code",
   "execution_count": 3,
   "id": "1b197515",
   "metadata": {},
   "outputs": [
    {
     "name": "stdout",
     "output_type": "stream",
     "text": [
      "The spinner landed on: 8\n"
     ]
    }
   ],
   "source": [
    "import random\n",
    "\n",
    "min_num = 1\n",
    "max_num = 12\n",
    "\n",
    "spin_result = random.randint(min_num, max_num)\n",
    "\n",
    "print(f\"The spinner landed on: {spin_result}\")\n"
   ]
  },
  {
   "cell_type": "code",
   "execution_count": 4,
   "id": "4fe162f7",
   "metadata": {},
   "outputs": [
    {
     "name": "stdout",
     "output_type": "stream",
     "text": [
      "Computer chose: scissors\n",
      "You chose: paper\n",
      "You lose!\n"
     ]
    }
   ],
   "source": [
    "import random\n",
    "\n",
    "def play_rock_paper_scissors():\n",
    "    choices = ['rock', 'paper', 'scissors']\n",
    "    computer_choice = random.choice(choices)\n",
    "    user_choice = input(\"Enter your choice (rock, paper, or scissors): \")\n",
    "\n",
    "    if user_choice not in choices:\n",
    "        print(\"Invalid choice. Please try again.\")\n",
    "        return\n",
    "\n",
    "    print(\"Computer chose:\", computer_choice)\n",
    "    print(\"You chose:\", user_choice)\n",
    "\n",
    "    if user_choice == computer_choice:\n",
    "        print(\"It's a tie!\")\n",
    "    elif (user_choice == 'rock' and computer_choice == 'scissors') or (user_choice == 'paper' and computer_choice == 'rock') or (user_choice == 'scissors' and computer_choice == 'paper'):\n",
    "        print(\"You win!\")\n",
    "    else:\n",
    "        print(\"You lose!\")\n",
    "\n",
    "play_rock_paper_scissors()"
   ]
  }
 ],
 "metadata": {
  "kernelspec": {
   "display_name": "venv",
   "language": "python",
   "name": "python3"
  },
  "language_info": {
   "codemirror_mode": {
    "name": "ipython",
    "version": 3
   },
   "file_extension": ".py",
   "mimetype": "text/x-python",
   "name": "python",
   "nbconvert_exporter": "python",
   "pygments_lexer": "ipython3",
   "version": "3.12.3"
  }
 },
 "nbformat": 4,
 "nbformat_minor": 5
}
