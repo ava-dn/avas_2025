{
 "cells": [
  {
   "cell_type": "markdown",
   "metadata": {},
   "source": [
    "3.1.1 Python_Popcorn_Hacks"
   ]
  },
  {
   "cell_type": "code",
   "execution_count": 4,
   "metadata": {},
   "outputs": [
    {
     "name": "stdout",
     "output_type": "stream",
     "text": [
      "Risha Vibha Ava\n"
     ]
    }
   ],
   "source": [
    "player_one = \"Risha\"\n",
    "PlayerOne = \"Vibha\"\n",
    "playerOne = \"Ava\"\n",
    "\n",
    "print(player_one, PlayerOne, playerOne)"
   ]
  },
  {
   "cell_type": "markdown",
   "metadata": {},
   "source": [
    "3.1.2 Python_Popcorn_Hacks"
   ]
  },
  {
   "cell_type": "code",
   "execution_count": 4,
   "metadata": {},
   "outputs": [
    {
     "name": "stdout",
     "output_type": "stream",
     "text": [
      "Lemon\n",
      "Sour\n",
      "Yellow\n"
     ]
    }
   ],
   "source": [
    "personal_info = {\n",
    "    \"name\": \"Lemon\",\n",
    "    \"taste\": \"Sour\",\n",
    "    \"color\": \"Yellow\"\n",
    "}\n",
    "\n",
    "print(personal_info[\"name\"])\n",
    "print(personal_info[\"taste\"])\n",
    "print(personal_info[\"color\"])"
   ]
  },
  {
   "cell_type": "markdown",
   "metadata": {},
   "source": [
    "3.1.4 Python_Popcorn_Hacks"
   ]
  },
  {
   "cell_type": "code",
   "execution_count": 1,
   "metadata": {
    "vscode": {
     "languageId": "javascript"
    }
   },
   "outputs": [
    {
     "data": {
      "application/javascript": "\n//here we create an array of strings (colors) and log it to the console!\nlet berries = [\"yellow\", \"green\", \"pink\", \"blue\"];\nconsole.log(\"Array: \", colors);\nelement.append(\"Array: \" + colors.join(\", \"));\n",
      "text/plain": [
       "<IPython.core.display.Javascript object>"
      ]
     },
     "metadata": {},
     "output_type": "display_data"
    }
   ],
   "source": [
    "%%js\n",
    "\n",
    "//here we create an array of strings (colors) and log it to the console!\n",
    "let berries = [\"yellow\", \"green\", \"pink\", \"blue\"];\n",
    "console.log(\"Array: \", colors);\n",
    "element.append(\"Array: \" + colors.join(\", \"));\n"
   ]
  }
 ],
 "metadata": {
  "kernelspec": {
   "display_name": "venv",
   "language": "python",
   "name": "python3"
  },
  "language_info": {
   "codemirror_mode": {
    "name": "ipython",
    "version": 3
   },
   "file_extension": ".py",
   "mimetype": "text/x-python",
   "name": "python",
   "nbconvert_exporter": "python",
   "pygments_lexer": "ipython3",
   "version": "3.12.3"
  }
 },
 "nbformat": 4,
 "nbformat_minor": 2
}
