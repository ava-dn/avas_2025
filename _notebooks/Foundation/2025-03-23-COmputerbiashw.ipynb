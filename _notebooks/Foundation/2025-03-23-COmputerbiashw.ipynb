{
 "cells": [
  {
   "cell_type": "markdown",
   "metadata": {},
   "source": [
    "**Computer Bias Hw**"
   ]
  },
  {
   "cell_type": "markdown",
   "metadata": {},
   "source": [
    "## Popcorn Hack #1"
   ]
  },
  {
   "cell_type": "markdown",
   "metadata": {},
   "source": [
    "- Social Media: The algorithm will know what you like and start giving you the same type of\n",
    "\n",
    " videos which can be  a problem for everyone and can cause people to get addicted to social media."
   ]
  },
  {
   "cell_type": "markdown",
   "metadata": {},
   "source": [
    "## Popcorn Hack #2"
   ]
  },
  {
   "cell_type": "markdown",
   "metadata": {},
   "source": [
    "- Phone: One time my phone powered off in the middle of a show while it still had plenty of \n",
    "\n",
    "battery which made me annoyed."
   ]
  },
  {
   "cell_type": "markdown",
   "metadata": {},
   "source": [
    "## Popcorn Hack #3"
   ]
  },
  {
   "cell_type": "markdown",
   "metadata": {},
   "source": [
    "Training Data:\n",
    "\n",
    "Many algorithms are trained on datasets that primarily represent certain people\n",
    "\n",
    " (e.g., young, fit individuals). This can lead to recommendations that are less \n",
    " \n",
    " effective or even harmful for underrepresented groups (e.g., older adults, \n",
    " \n",
    " people with disabilities, pregnant individuals)."
   ]
  },
  {
   "cell_type": "markdown",
   "metadata": {},
   "source": [
    "## HW Hack #1"
   ]
  },
  {
   "cell_type": "markdown",
   "metadata": {},
   "source": [
    "1. Youtube\n",
    "\n",
    "2. Yes, Youtube shorts and the home page recommends certain things based on yoyr age / interests. \n",
    "\n",
    "It also gives ads based on those things as well. And yes, youtube does cater pretty well and\n",
    "\n",
    " has hudreds of millions of videos for all different types of people\n",
    "\n",
    "3. Algorithm Design: The recommendation algorithm is designed to maximize user engagement, \n",
    "\n",
    "often by suggesting videos that are more likely to keep users watching. This leads to echo \n",
    "\n",
    "chambers, where users are exposed to content similar to what they’ve already watched,\n",
    "\n",
    " sometimes at the expense of diverse or challenging perspectives.\n",
    "\n",
    " 4. Propose a Solution:\n",
    "\n",
    "One way YouTube could reduce bias and improve inclusivity is by \n",
    "\n",
    "implementing a diversity-focused algorithm update. This could involve:\n",
    "\n",
    "Introducing More Diverse Content in Recommendations: The algorithm could be tweaked to \n",
    "\n",
    "occasionally push content from creators of diverse backgrounds or from less popular\n",
    "\n",
    " categories, ensuring that users get exposed to a variety of perspectives.\n",
    "\n",
    "Also, adding captions and translators to all videos so people who speak all language and people\n",
    "\n",
    "with all abilities will be able to enjoy content.\n",
    "\n"
   ]
  }
 ],
 "metadata": {
  "language_info": {
   "name": "python"
  }
 },
 "nbformat": 4,
 "nbformat_minor": 2
}
