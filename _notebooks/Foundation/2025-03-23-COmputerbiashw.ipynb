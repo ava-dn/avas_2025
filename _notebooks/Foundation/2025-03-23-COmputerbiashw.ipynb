{
 "cells": [
  {
   "cell_type": "markdown",
   "metadata": {},
   "source": [
    "**Computer Bias Hw**"
   ]
  },
  {
   "cell_type": "markdown",
   "metadata": {},
   "source": [
    "## Popcorn Hack #1"
   ]
  },
  {
   "cell_type": "markdown",
   "metadata": {},
   "source": [
    "- Social Media: The algorithm will know what you like and start giving you the same type of\n",
    "\n",
    " videos which can be  a problem for everyone and can cause people to get addicted to social media."
   ]
  },
  {
   "cell_type": "markdown",
   "metadata": {},
   "source": [
    "## Popcorn Hack #2"
   ]
  },
  {
   "cell_type": "markdown",
   "metadata": {},
   "source": [
    "- Phone: One time my phone powered off in the middle of a show while it still had plenty of \n",
    "\n",
    "battery which made me annoyed."
   ]
  },
  {
   "cell_type": "markdown",
   "metadata": {},
   "source": [
    "## Popcorn Hack #3"
   ]
  },
  {
   "cell_type": "markdown",
   "metadata": {},
   "source": [
    "Training Data:\n",
    "\n",
    "Many algorithms are trained on datasets that primarily represent certain people\n",
    "\n",
    " (e.g., young, fit individuals). This can lead to recommendations that are less \n",
    " \n",
    " effective or even harmful for underrepresented groups (e.g., older adults, \n",
    " \n",
    " people with disabilities, pregnant individuals)."
   ]
  }
 ],
 "metadata": {
  "language_info": {
   "name": "python"
  }
 },
 "nbformat": 4,
 "nbformat_minor": 2
}
