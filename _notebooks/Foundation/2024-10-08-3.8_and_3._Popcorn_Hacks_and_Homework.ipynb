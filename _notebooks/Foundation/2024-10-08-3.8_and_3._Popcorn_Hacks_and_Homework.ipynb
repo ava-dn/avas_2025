{
 "cells": [
  {
   "cell_type": "markdown",
   "metadata": {
    "vscode": {
     "languageId": "plaintext"
    }
   },
   "source": [
    "Popcorn Hack #1"
   ]
  },
  {
   "cell_type": "code",
   "execution_count": 1,
   "metadata": {},
   "outputs": [
    {
     "name": "stdout",
     "output_type": "stream",
     "text": [
      "hello\n",
      "hello\n",
      "hello\n",
      "hello\n",
      "hello\n"
     ]
    }
   ],
   "source": [
    "count = 0\n",
    "while count < 5:\n",
    "    print(\"hello\")\n",
    "    count += 1"
   ]
  },
  {
   "cell_type": "markdown",
   "metadata": {},
   "source": [
    "Popcorn Hack #2"
   ]
  },
  {
   "cell_type": "code",
   "execution_count": 5,
   "metadata": {},
   "outputs": [
    {
     "name": "stdout",
     "output_type": "stream",
     "text": [
      "ava\n",
      "  rose\n",
      "  rose\n",
      "  shalon\n",
      "  shalon\n",
      "  shalon\n",
      "ava\n",
      "  rose\n",
      "  rose\n",
      "  shalon\n",
      "  shalon\n",
      "  shalon\n",
      "ava\n",
      "  rose\n",
      "  rose\n",
      "  shalon\n",
      "  shalon\n",
      "  shalon\n",
      "ava\n",
      "  rose\n",
      "  rose\n",
      "  shalon\n",
      "  shalon\n",
      "  shalon\n"
     ]
    }
   ],
   "source": [
    "outer_counter = 0\n",
    "inner_counter = 0\n",
    "\n",
    "while outer_counter < 4:\n",
    "    print(\"ava\")\n",
    "    \n",
    "    inner_counter = 0\n",
    "    while inner_counter < 2:\n",
    "        print(\"  rose\")\n",
    "        inner_counter += 1\n",
    "\n",
    "    inner_counter =0\n",
    "    while inner_counter < 3:\n",
    "        print(\"  shalon\")\n",
    "        inner_counter += 1\n",
    "    \n",
    "    outer_counter += 1"
   ]
  },
  {
   "cell_type": "markdown",
   "metadata": {},
   "source": [
    "Popcorn Hack #3"
   ]
  },
  {
   "cell_type": "code",
   "execution_count": 6,
   "metadata": {},
   "outputs": [
    {
     "name": "stdout",
     "output_type": "stream",
     "text": [
      "a\n",
      "v\n",
      "a\n"
     ]
    }
   ],
   "source": [
    "name = \"ava\"\n",
    "\n",
    "for letter in name:\n",
    "    print(letter)"
   ]
  }
 ],
 "metadata": {
  "kernelspec": {
   "display_name": "venv",
   "language": "python",
   "name": "python3"
  },
  "language_info": {
   "codemirror_mode": {
    "name": "ipython",
    "version": 3
   },
   "file_extension": ".py",
   "mimetype": "text/x-python",
   "name": "python",
   "nbconvert_exporter": "python",
   "pygments_lexer": "ipython3",
   "version": "3.12.3"
  }
 },
 "nbformat": 4,
 "nbformat_minor": 2
}
