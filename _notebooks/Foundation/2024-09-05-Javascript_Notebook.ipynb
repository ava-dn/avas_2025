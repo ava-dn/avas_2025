{
 "cells": [
  {
   "cell_type": "code",
   "execution_count": null,
   "metadata": {},
   "outputs": [],
   "source": []
  },
  {
   "cell_type": "code",
   "execution_count": null,
   "metadata": {
    "vscode": {
     "languageId": "javascript"
    }
   },
   "outputs": [],
   "source": [
    "const person = {\n",
    "    name: \"Ava\",\n",
    "    currentClasses: [\"Statistics\", \"US History\", \"Computer Science\", \"American Literature\", \"Physics\"],\n",
    "    interests: [\"Watching TV\", \"Going to the Beach\", \"Swimming\"],\n",
    "};\n",
    "\n",
    "// Step 2: Print the entire object\n",
    "console.log(\"Initial Object:\", person);\n",
    "\n",
    "// Step 3: Manipulate the arrays\n",
    "// Adding a new class to currentClasses\n",
    "person.currentClasses.push(\"Art\");\n",
    "// Removing an interest\n",
    "person.interests.pop();\n",
    "\n",
    "// Print the updated object and the specific changed keys\n",
    "console.log(\"Updated Object:\", person);\n",
    "console.log(\"Updated Current Classes:\", person.currentClasses);\n",
    "console.log(\"Updated Interests:\", person.interests);\n",
    "\n",
    "console.log(`Age Next Year: ${ageNextYear}`); // 26\n",
    "console.log(`Age in Five Years: ${ageInFiveYears}`); // 30\n",
    "console.log(`Age Modulo 3: ${ageModulo}`); // 1\n",
    "\n",
    "// Step 5: Use typeof to determine types\n",
    "console.log(\"Type of name:\", typeof person.name); // string\n",
    "console.log(\"Type of age:\", typeof person.age); // number\n",
    "console.log(\"Type of currentClasses:\", typeof person.currentClasses); // object (array)\n"
   ]
  }
 ],
 "metadata": {
  "language_info": {
   "name": "python"
  }
 },
 "nbformat": 4,
 "nbformat_minor": 2
}
