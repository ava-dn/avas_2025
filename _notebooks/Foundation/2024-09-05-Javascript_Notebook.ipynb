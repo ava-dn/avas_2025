{
 "cells": [
  {
   "cell_type": "code",
   "execution_count": null,
   "metadata": {},
   "outputs": [],
   "source": []
  },
  {
   "cell_type": "code",
   "execution_count": null,
   "metadata": {
    "vscode": {
     "languageId": "javascript"
    }
   },
   "outputs": [],
   "source": [
    "const person = {\n",
    "    name: \"Ava\",\n",
    "    currentClasses: [\"Statistics\", \"US History\", \"Computer Science\", \"American Literature\", \"Physics\"],\n",
    "    interests: [\"Watching TV\", \"Going to the Beach\", \"Swimming\"],\n",
    "};\n",
    "\n",
    "console.log(\"Initial Object:\", person);\n",
    "\n",
    "person.currentClasses.push(\"Art\");\n",
    "person.interests.pop();\n",
    "\n",
    "console.log(\"Updated Object:\", person);\n",
    "console.log(\"Updated Current Classes:\", person.currentClasses);\n",
    "console.log(\"Updated Interests:\", person.interests);\n",
    "\n",
    "console.log(`Age Next Year: ${ageNextYear}`); \n",
    "console.log(`Age in Five Years: ${ageInFiveYears}`);\n",
    "console.log(`Age Modulo 3: ${ageModulo}`); \n",
    "\n",
    "console.log(\"Type of name:\", typeof person.name); \n",
    "console.log(\"Type of age:\", typeof person.age); \n",
    "console.log(\"Type of currentClasses:\", typeof person.currentClasses); \n"
   ]
  }
 ],
 "metadata": {
  "language_info": {
   "name": "python"
  }
 },
 "nbformat": 4,
 "nbformat_minor": 2
}
