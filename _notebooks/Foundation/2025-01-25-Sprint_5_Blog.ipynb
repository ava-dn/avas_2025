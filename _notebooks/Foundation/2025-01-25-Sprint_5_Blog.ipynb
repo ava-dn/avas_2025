{
 "cells": [
  {
   "cell_type": "markdown",
   "metadata": {},
   "source": [
    "**Sprint 5 Blog Post**"
   ]
  },
  {
   "cell_type": "code",
   "execution_count": null,
   "metadata": {
    "vscode": {
     "languageId": "plaintext"
    }
   },
   "outputs": [],
   "source": [
    "The purpose of my individual programs to this Sprint 5 project have been designing the four individual\n",
    "\n",
    "national park pages along with integrating a google maps API within each page. "
   ]
  }
 ],
 "metadata": {
  "language_info": {
   "name": "python"
  }
 },
 "nbformat": 4,
 "nbformat_minor": 2
}
