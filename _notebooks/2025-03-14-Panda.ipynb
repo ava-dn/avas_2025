{
 "cells": [
  {
   "cell_type": "markdown",
   "metadata": {},
   "source": [
    "Introduction to Pandas and ML\n",
    "Here is how Mort started on this assignment by asking ChatGPT … Regarding Python Pandas, what are some data sets that would be good for learning Pandas?\n",
    "\n",
    "There are many data sets that are suitable for learning pandas, depending on your interests and the skills you want to develop.\n",
    "\n",
    "Here are some suggestions…\n",
    "\n",
    "Titanic Dataset: This is a classic dataset for data analysis and machine learning, and is often used as an introduction to pandas. The dataset contains information about passengers on the Titanic, including their demographics, ticket class, and survival status.\n",
    "\n",
    "Iris Dataset: This is another classic dataset that is often used in machine learning and data analysis courses. The dataset contains information about iris flowers, including their sepal length, sepal width, petal length, and petal width.\n",
    "\n",
    "NBA Player Stats: This dataset contains information about NBA players, including their stats for various games, their positions, and their salaries. It is a great dataset for learning how to clean and manipulate data using pandas.\n",
    "\n",
    "Housing Prices Dataset: This dataset contains information about housing prices in a particular city or region, including variables such as the number of bedrooms, square footage, and price. It is a great dataset for learning how to manipulate and analyze numerical data using pandas.\n",
    "\n",
    "COVID-19 Dataset: This dataset contains information about the COVID-19 pandemic, including the number of cases, deaths, and recoveries in various countries and regions. It is a great dataset for learning how to manipulate and analyze time-series data using pandas.\n",
    "\n",
    "World Bank Dataset: This dataset contains information about economic indicators from various countries, such as GDP, population, and poverty rates. It is a great dataset for learning how to manipulate and analyze large datasets using pandas.\n",
    "\n",
    "These are just a few examples of the many datasets that are suitable for learning pandas. The best dataset for you will depend on your interests and the specific skills you want to develop.\n",
    "\n",
    "Follow up question, “where can I find Titanic data set?”\n",
    "\n",
    "The Titanic dataset is a popular dataset for data analysis and machine learning, and it can be found on various websites and data repositories. Here are a few places where you can find the Titanic dataset…\n",
    "\n",
    "Kaggle: The Titanic dataset is available on Kaggle, which is a popular platform for data scientists and machine learning enthusiasts. You can download the dataset from the Kaggle website after creating an account.\n",
    "\n",
    "UCI Machine Learning Repository: The Titanic dataset is also available on the UCI Machine Learning Repository, which is a collection of datasets that are commonly used for machine learning research. You can download the dataset from the UCI Machine Learning Repository website.\n",
    "\n",
    "Seaborn library: If you have the Seaborn library installed in your Python environment, you can load the Titanic dataset directly from the library using the following code:\n"
   ]
  },
  {
   "cell_type": "markdown",
   "metadata": {},
   "source": [
    "Titanic Libraries\n",
    "Using the Titanic dataset will require importing data."
   ]
  },
  {
   "cell_type": "code",
   "execution_count": null,
   "metadata": {},
   "outputs": [],
   "source": [
    " import seaborn as sns\n",
    "    titanic_data = sns.load_dataset('titanic')\n",
    "# Uncomment the following lines to install the required packages\n",
    "# !pip install seaborn\n",
    "# !pip install pandas\n",
    "# !pip install scikit-learn"
   ]
  },
  {
   "cell_type": "markdown",
   "metadata": {},
   "source": [
    "Clean Titanic Data\n",
    "This is called ‘Cleaning’ data.\n",
    "\n",
    "Most analysis, like Machine Learning require data to be in standardized format…\n",
    "\n",
    "All data needs to be numeric\n",
    "Some data is removed, as it is not useable in study\n",
    "Sex and alone is changed to binary\n",
    "The embark data is split into multiple columns"
   ]
  },
  {
   "cell_type": "code",
   "execution_count": null,
   "metadata": {},
   "outputs": [],
   "source": [
    "import pandas as pd\n",
    "# Preprocess the data\n",
    "from sklearn.preprocessing import OneHotEncoder\n",
    "\n",
    "td = titanic_data\n",
    "td.drop(['alive', 'who', 'adult_male', 'class', 'embark_town', 'deck'], axis=1, inplace=True)\n",
    "td.dropna(inplace=True) # drop rows with at least one missing value, after dropping unuseful columns\n",
    "td['sex'] = td['sex'].apply(lambda x: 1 if x == 'male' else 0)\n",
    "td['alone'] = td['alone'].apply(lambda x: 1 if x == True else 0)\n",
    "\n",
    "# Encode categorical variables\n",
    "enc = OneHotEncoder(handle_unknown='ignore')\n",
    "enc.fit(td[['embarked']])\n",
    "onehot = enc.transform(td[['embarked']]).toarray()\n",
    "cols = ['embarked_' + val for val in enc.categories_[0]]\n",
    "td[cols] = pd.DataFrame(onehot)\n",
    "td.drop(['embarked'], axis=1, inplace=True)\n",
    "td.dropna(inplace=True) # drop rows with at least one missing value, after preparing the data\n",
    "\n",
    "print(td.columns)\n",
    "display(td)"
   ]
  },
  {
   "cell_type": "markdown",
   "metadata": {},
   "source": [
    "Train Titanic Data\n",
    "The result of ‘Training’ data is making it easier to analyze or make conclusions.\n",
    "\n",
    "What conclusions can you make using min, max, means statistics bout the following…\n",
    "\n",
    "Given that 1-male and 0-femaale, what gender is more likely to suvive?\n",
    "Can you make an conclusions on fare?\n",
    "Can you make any conclusions on being alone?\n",
    "Median Values\n",
    "print(titanic_data.median())\n",
    "Perished Mean/Average\n",
    "print(titanic_data.query(\"survived == 0\").mean())\n",
    "Survived Mean/Average\n",
    "print(td.query(\"survived == 1\").mean())\n",
    "Survived Max and Min Stats\n",
    "print(\"maximums for survivors\")\n",
    "print(td.query(\"survived == 1\").max())\n",
    "print()\n",
    "print(\"minimums for survivors\")\n",
    "print(td.query(\"survived == 1\").min())"
   ]
  },
  {
   "cell_type": "code",
   "execution_count": 4,
   "metadata": {},
   "outputs": [
    {
     "ename": "ModuleNotFoundError",
     "evalue": "No module named 'numpy'",
     "output_type": "error",
     "traceback": [
      "\u001b[0;31m---------------------------------------------------------------------------\u001b[0m",
      "\u001b[0;31mModuleNotFoundError\u001b[0m                       Traceback (most recent call last)",
      "Cell \u001b[0;32mIn[4], line 1\u001b[0m\n\u001b[0;32m----> 1\u001b[0m \u001b[38;5;28;01mimport\u001b[39;00m \u001b[38;5;21;01mnumpy\u001b[39;00m \u001b[38;5;28;01mas\u001b[39;00m \u001b[38;5;21;01mnp\u001b[39;00m\n\u001b[1;32m      3\u001b[0m \u001b[38;5;66;03m# Logistic regression model is used to predict the probability\u001b[39;00m\n\u001b[1;32m      4\u001b[0m \n\u001b[1;32m      5\u001b[0m \u001b[38;5;66;03m# Define a new passenger\u001b[39;00m\n\u001b[1;32m      6\u001b[0m passenger \u001b[38;5;241m=\u001b[39m pd\u001b[38;5;241m.\u001b[39mDataFrame({\n\u001b[1;32m      7\u001b[0m     \u001b[38;5;124m'\u001b[39m\u001b[38;5;124mname\u001b[39m\u001b[38;5;124m'\u001b[39m: [\u001b[38;5;124m'\u001b[39m\u001b[38;5;124mJohn Mortensen\u001b[39m\u001b[38;5;124m'\u001b[39m],\n\u001b[1;32m      8\u001b[0m     \u001b[38;5;124m'\u001b[39m\u001b[38;5;124mpclass\u001b[39m\u001b[38;5;124m'\u001b[39m: [\u001b[38;5;241m2\u001b[39m], \u001b[38;5;66;03m# 2nd class picked as it was median, bargains are my preference, but I don't want to have poor accomodations\u001b[39;00m\n\u001b[0;32m   (...)\u001b[0m\n\u001b[1;32m     15\u001b[0m     \u001b[38;5;124m'\u001b[39m\u001b[38;5;124malone\u001b[39m\u001b[38;5;124m'\u001b[39m: [\u001b[38;5;28;01mFalse\u001b[39;00m] \u001b[38;5;66;03m# travelling with family (spouse and child))\u001b[39;00m\n\u001b[1;32m     16\u001b[0m })\n",
      "\u001b[0;31mModuleNotFoundError\u001b[0m: No module named 'numpy'"
     ]
    }
   ],
   "source": [
    "import numpy as np\n",
    "\n",
    "# Logistic regression model is used to predict the probability\n",
    "\n",
    "# Define a new passenger\n",
    "passenger = pd.DataFrame({\n",
    "    'name': ['John Mortensen'],\n",
    "    'pclass': [2], # 2nd class picked as it was median, bargains are my preference, but I don't want to have poor accomodations\n",
    "    'sex': ['male'],\n",
    "    'age': [65],\n",
    "    'sibsp': [1], # I usually travel with my wife\n",
    "    'parch': [1], # currenly I have 1 child at home\n",
    "    'fare': [16.00], # median fare picked assuming it is 2nd class\n",
    "    'embarked': ['S'], # majority of passengers embarked in Southampton\n",
    "    'alone': [False] # travelling with family (spouse and child))\n",
    "})\n",
    "\n",
    "display(passenger)\n",
    "new_passenger = passenger.copy()\n",
    "\n",
    "# Preprocess the new passenger data\n",
    "new_passenger['sex'] = new_passenger['sex'].apply(lambda x: 1 if x == 'male' else 0)\n",
    "new_passenger['alone'] = new_passenger['alone'].apply(lambda x: 1 if x == True else 0)\n",
    "\n",
    "# Encode 'embarked' variable\n",
    "onehot = enc.transform(new_passenger[['embarked']]).toarray()\n",
    "cols = ['embarked_' + val for val in enc.categories_[0]]\n",
    "new_passenger[cols] = pd.DataFrame(onehot, index=new_passenger.index)\n",
    "new_passenger.drop(['name'], axis=1, inplace=True)\n",
    "new_passenger.drop(['embarked'], axis=1, inplace=True)\n",
    "\n",
    "display(new_passenger)\n",
    "\n",
    "# Predict the survival probability for the new passenger\n",
    "dead_proba, alive_proba = np.squeeze(logreg.predict_proba(new_passenger))\n",
    "\n",
    "# Print the survival probability\n",
    "print('Death probability: {:.2%}'.format(dead_proba))  \n",
    "print('Survival probability: {:.2%}'.format(alive_proba))"
   ]
  }
 ],
 "metadata": {
  "kernelspec": {
   "display_name": "venv",
   "language": "python",
   "name": "python3"
  },
  "language_info": {
   "codemirror_mode": {
    "name": "ipython",
    "version": 3
   },
   "file_extension": ".py",
   "mimetype": "text/x-python",
   "name": "python",
   "nbconvert_exporter": "python",
   "pygments_lexer": "ipython3",
   "version": "3.12.3"
  }
 },
 "nbformat": 4,
 "nbformat_minor": 2
}
