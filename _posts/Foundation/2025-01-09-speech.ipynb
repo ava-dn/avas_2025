{
 "cells": [
  {
   "cell_type": "markdown",
   "metadata": {},
   "source": [
    "Key Notes:"
   ]
  },
  {
   "cell_type": "markdown",
   "metadata": {},
   "source": [
    "Major Takeaway: Coding helps with so many other aspects of life mainly: communication. Both sstudents discussed how projects cannot be done without the proper communication. Also, coding utilizes creativity which is very interested as many would not consider this an art class."
   ]
  },
  {
   "cell_type": "code",
   "execution_count": null,
   "metadata": {
    "vscode": {
     "languageId": "plaintext"
    }
   },
   "outputs": [],
   "source": []
  }
 ],
 "metadata": {
  "language_info": {
   "name": "python"
  }
 },
 "nbformat": 4,
 "nbformat_minor": 2
}
