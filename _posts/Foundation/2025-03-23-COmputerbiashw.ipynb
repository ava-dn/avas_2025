{
 "cells": [
  {
   "cell_type": "markdown",
   "metadata": {},
   "source": [
    "---\n",
    "layout: post\n",
    "title: Computer Bias Hw\n",
    "permalink: /Computerbiashw\n",
    "comments: true\n",
    "---"
   ]
  },
  {
   "cell_type": "code",
   "execution_count": 1,
   "metadata": {},
   "outputs": [
    {
     "name": "stdout",
     "output_type": "stream",
     "text": [
      "🧠 Binary Subtraction Challenge! 🧠\n",
      "\n",
      "Problem 1: 11111 - 11100\n",
      "✅ Correct!\n",
      "\n",
      "Problem 2: 110001 - 110001\n",
      "✅ Correct!\n",
      "\n",
      "Problem 3: 100100 - 100\n",
      "✅ Correct!\n",
      "\n",
      "🎯 You got 3/3 correct!\n",
      "Thanks for practicing!\n"
     ]
    }
   ],
   "source": [
    "import random\n",
    "\n",
    "def binary_subtraction(bin1, bin2):\n",
    "    max_len = max(len(bin1), len(bin2))\n",
    "    bin1 = bin1.zfill(max_len)\n",
    "    bin2 = bin2.zfill(max_len)\n",
    "\n",
    "    result = ''\n",
    "    borrow = 0\n",
    "\n",
    "    for i in range(max_len-1, -1, -1):\n",
    "        bit1 = int(bin1[i])\n",
    "        bit2 = int(bin2[i])\n",
    "\n",
    "        sub = bit1 - bit2 - borrow\n",
    "\n",
    "        if sub == 0 or sub == 1:\n",
    "            result = str(sub) + result\n",
    "            borrow = 0\n",
    "        elif sub == -1:\n",
    "            result = '1' + result\n",
    "            borrow = 1\n",
    "        elif sub == -2:\n",
    "            result = '0' + result\n",
    "            borrow = 1\n",
    "\n",
    "    result = result.lstrip('0') or '0'\n",
    "    return result\n",
    "\n",
    "# --- QUIZ DRIVER CODE ---\n",
    "print(\"🧠 Binary Subtraction Challenge! 🧠\")\n",
    "score = 0\n",
    "total_questions = 3\n",
    "\n",
    "for question_num in range(1, total_questions + 1):\n",
    "    num1 = random.randint(8, 63)\n",
    "    num2 = random.randint(0, num1)\n",
    "\n",
    "    bin1 = bin(num1)[2:]\n",
    "    bin2 = bin(num2)[2:]\n",
    "\n",
    "    print(f\"\\nProblem {question_num}: {bin1} - {bin2}\")\n",
    "    user_answer = input(\"Your answer: \").strip()\n",
    "\n",
    "    correct_answer = binary_subtraction(bin1, bin2)\n",
    "\n",
    "    if user_answer == correct_answer:\n",
    "        print(\"✅ Correct!\")\n",
    "        score += 1\n",
    "    else:\n",
    "        print(f\"❌ Incorrect. The correct answer was {correct_answer}.\")\n",
    "\n",
    "print(f\"\\n🎯 You got {score}/{total_questions} correct!\")\n",
    "print(\"Thanks for practicing!\")\n"
   ]
  },
  {
   "cell_type": "code",
   "execution_count": null,
   "metadata": {},
   "outputs": [],
   "source": []
  },
  {
   "cell_type": "markdown",
   "metadata": {},
   "source": [
    "**Computer Bias Hw**"
   ]
  },
  {
   "cell_type": "markdown",
   "metadata": {},
   "source": [
    "## Popcorn Hack #1"
   ]
  },
  {
   "cell_type": "markdown",
   "metadata": {},
   "source": [
    "- Social Media: The algorithm will know what you like and start giving you the same type of\n",
    "\n",
    " videos which can be  a problem for everyone and can cause people to get addicted to social media."
   ]
  },
  {
   "cell_type": "markdown",
   "metadata": {},
   "source": [
    "## Popcorn Hack #2"
   ]
  },
  {
   "cell_type": "markdown",
   "metadata": {},
   "source": [
    "- Phone: One time my phone powered off in the middle of a show while it still had plenty of \n",
    "\n",
    "battery which made me annoyed."
   ]
  },
  {
   "cell_type": "markdown",
   "metadata": {},
   "source": [
    "## Popcorn Hack #3"
   ]
  },
  {
   "cell_type": "markdown",
   "metadata": {},
   "source": [
    "Training Data:\n",
    "\n",
    "Many algorithms are trained on datasets that primarily represent certain people\n",
    "\n",
    " (e.g., young, fit individuals). This can lead to recommendations that are less \n",
    " \n",
    " effective or even harmful for underrepresented groups (e.g., older adults, \n",
    " \n",
    " people with disabilities, pregnant individuals)."
   ]
  },
  {
   "cell_type": "markdown",
   "metadata": {},
   "source": [
    "## HW Hack #1"
   ]
  },
  {
   "cell_type": "markdown",
   "metadata": {},
   "source": [
    "1. Youtube\n",
    "\n",
    "2. Yes, Youtube shorts and the home page recommends certain things based on yoyr age / interests. \n",
    "\n",
    "It also gives ads based on those things as well. And yes, youtube does cater pretty well and\n",
    "\n",
    " has hudreds of millions of videos for all different types of people\n",
    "\n",
    "3. Algorithm Design: The recommendation algorithm is designed to maximize user engagement, \n",
    "\n",
    "often by suggesting videos that are more likely to keep users watching. This leads to echo \n",
    "\n",
    "chambers, where users are exposed to content similar to what they’ve already watched,\n",
    "\n",
    " sometimes at the expense of diverse or challenging perspectives.\n",
    "\n",
    " 4. Propose a Solution:\n",
    "\n",
    "One way YouTube could reduce bias and improve inclusivity is by \n",
    "\n",
    "implementing a diversity-focused algorithm update. This could involve:\n",
    "\n",
    "Introducing More Diverse Content in Recommendations: The algorithm could be tweaked to \n",
    "\n",
    "occasionally push content from creators of diverse backgrounds or from less popular\n",
    "\n",
    " categories, ensuring that users get exposed to a variety of perspectives.\n",
    "\n",
    "Also, adding captions and translators to all videos so people who speak all language and people\n",
    "\n",
    "with all abilities will be able to enjoy content.\n",
    "\n"
   ]
  }
 ],
 "metadata": {
  "kernelspec": {
   "display_name": "venv",
   "language": "python",
   "name": "python3"
  },
  "language_info": {
   "codemirror_mode": {
    "name": "ipython",
    "version": 3
   },
   "file_extension": ".py",
   "mimetype": "text/x-python",
   "name": "python",
   "nbconvert_exporter": "python",
   "pygments_lexer": "ipython3",
   "version": "3.12.3"
  }
 },
 "nbformat": 4,
 "nbformat_minor": 2
}
